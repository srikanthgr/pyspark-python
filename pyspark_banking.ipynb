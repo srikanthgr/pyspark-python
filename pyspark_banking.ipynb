{
  "nbformat": 4,
  "nbformat_minor": 0,
  "metadata": {
    "colab": {
      "name": "pyspark_banking.ipynb",
      "provenance": [],
      "authorship_tag": "ABX9TyMCf6k8AC/Sg1V4IO72MCEM",
      "include_colab_link": true
    },
    "kernelspec": {
      "name": "python3",
      "display_name": "Python 3"
    }
  },
  "cells": [
    {
      "cell_type": "markdown",
      "metadata": {
        "id": "view-in-github",
        "colab_type": "text"
      },
      "source": [
        "<a href=\"https://colab.research.google.com/github/srikanthgr/pyspark-python/blob/main/pyspark_banking.ipynb\" target=\"_parent\"><img src=\"https://colab.research.google.com/assets/colab-badge.svg\" alt=\"Open In Colab\"/></a>"
      ]
    },
    {
      "cell_type": "code",
      "metadata": {
        "id": "wkLwftrMLAKu"
      },
      "source": [
        "!apt-get install openjdk-8-jdk-headless -qq > /dev/null\n",
        "!wget -q https://archive.apache.org/dist/spark/spark-2.4.3/spark-2.4.3-bin-hadoop2.6.tgz\n",
        "!tar -xvf spark-2.4.3-bin-hadoop2.6.tgz\n",
        "!pip install -q findspark\n",
        "import os\n",
        "os.environ[\"JAVA_HOME\"] = \"/usr/lib/jvm/java-8-openjdk-amd64\"\n",
        "os.environ[\"SPARK_HOME\"] = \"/content/spark-2.4.3-bin-hadoop2.6\"\n",
        "import findspark\n",
        "findspark.init()\n",
        "from pyspark.sql import SparkSession\n",
        "spark = SparkSession.builder.master(\"local[*]\").getOrCreate()"
      ],
      "execution_count": null,
      "outputs": []
    },
    {
      "cell_type": "code",
      "metadata": {
        "colab": {
          "base_uri": "https://localhost:8080/"
        },
        "id": "00Y38RNgLgS_",
        "outputId": "6f013c3b-7416-411d-ab35-5130e2287bb9"
      },
      "source": [
        "!wget https://raw.githubusercontent.com/srikanthgr/pyspark-python/main/bank_prospects.csv"
      ],
      "execution_count": 3,
      "outputs": [
        {
          "output_type": "stream",
          "text": [
            "--2021-03-05 06:58:30--  https://raw.githubusercontent.com/srikanthgr/pyspark-python/main/bank_prospects.csv\n",
            "Resolving raw.githubusercontent.com (raw.githubusercontent.com)... 185.199.108.133, 185.199.109.133, 185.199.110.133, ...\n",
            "Connecting to raw.githubusercontent.com (raw.githubusercontent.com)|185.199.108.133|:443... connected.\n",
            "HTTP request sent, awaiting response... 200 OK\n",
            "Length: 306 [text/plain]\n",
            "Saving to: ‘bank_prospects.csv’\n",
            "\n",
            "bank_prospects.csv  100%[===================>]     306  --.-KB/s    in 0s      \n",
            "\n",
            "2021-03-05 06:58:31 (19.3 MB/s) - ‘bank_prospects.csv’ saved [306/306]\n",
            "\n"
          ],
          "name": "stdout"
        }
      ]
    },
    {
      "cell_type": "code",
      "metadata": {
        "colab": {
          "base_uri": "https://localhost:8080/"
        },
        "id": "Dr7zcHo3Lk_R",
        "outputId": "20a9a6d3-af95-4a8b-d17f-26d50fda1ada"
      },
      "source": [
        "!ls"
      ],
      "execution_count": 4,
      "outputs": [
        {
          "output_type": "stream",
          "text": [
            "bank_prospects.csv  spark-2.4.3-bin-hadoop2.6\n",
            "sample_data\t    spark-2.4.3-bin-hadoop2.6.tgz\n"
          ],
          "name": "stdout"
        }
      ]
    },
    {
      "cell_type": "code",
      "metadata": {
        "colab": {
          "base_uri": "https://localhost:8080/"
        },
        "id": "X-htjqATLnUk",
        "outputId": "0a842aae-53e2-427d-ef43-71b3a9c0bf3d"
      },
      "source": [
        "bankProspectsDF = spark.read.csv(\"bank_prospects.csv\", header=True)\n",
        "bankProspectsDF.show()"
      ],
      "execution_count": 6,
      "outputs": [
        {
          "output_type": "stream",
          "text": [
            "+----+------+------+-------+---------+\n",
            "| Age|Salary|Gender|Country|Purchased|\n",
            "+----+------+------+-------+---------+\n",
            "|  18| 20000|  Male|Germany|        N|\n",
            "|  19| 22000|Female| France|        N|\n",
            "|  20| 24000|Female|England|        N|\n",
            "|  21|  null|  Male|England|        N|\n",
            "|  22| 50000|  Male| France|        Y|\n",
            "|  23| 35000|Female|England|        N|\n",
            "|  24|  null|  Male|Germany|        N|\n",
            "|  25| 32000|Female| France|        Y|\n",
            "|null| 35000|  Male|Germany|        N|\n",
            "|  27| 37000|Female| France|        N|\n",
            "|  27| 37000|Female|unknown|        N|\n",
            "+----+------+------+-------+---------+\n",
            "\n"
          ],
          "name": "stdout"
        }
      ]
    },
    {
      "cell_type": "code",
      "metadata": {
        "colab": {
          "base_uri": "https://localhost:8080/"
        },
        "id": "9JGDukT8LzUn",
        "outputId": "312e92be-7814-43e7-b82d-088af33a2d5c"
      },
      "source": [
        "bankProspectsDF1 = bankProspectsDF.filter(bankProspectsDF['country'] != \"unknown\")\n",
        "bankProspectsDF1.show()"
      ],
      "execution_count": 10,
      "outputs": [
        {
          "output_type": "stream",
          "text": [
            "+----+------+------+-------+---------+\n",
            "| Age|Salary|Gender|Country|Purchased|\n",
            "+----+------+------+-------+---------+\n",
            "|  18| 20000|  Male|Germany|        N|\n",
            "|  19| 22000|Female| France|        N|\n",
            "|  20| 24000|Female|England|        N|\n",
            "|  21|  null|  Male|England|        N|\n",
            "|  22| 50000|  Male| France|        Y|\n",
            "|  23| 35000|Female|England|        N|\n",
            "|  24|  null|  Male|Germany|        N|\n",
            "|  25| 32000|Female| France|        Y|\n",
            "|null| 35000|  Male|Germany|        N|\n",
            "|  27| 37000|Female| France|        N|\n",
            "+----+------+------+-------+---------+\n",
            "\n"
          ],
          "name": "stdout"
        }
      ]
    },
    {
      "cell_type": "code",
      "metadata": {
        "colab": {
          "base_uri": "https://localhost:8080/"
        },
        "id": "ofd4tZqpMEpN",
        "outputId": "4414e57f-87b5-41ac-bea6-58919e6eabe8"
      },
      "source": [
        "bankProspectsDF1.printSchema()"
      ],
      "execution_count": 11,
      "outputs": [
        {
          "output_type": "stream",
          "text": [
            "root\n",
            " |-- Age: string (nullable = true)\n",
            " |-- Salary: string (nullable = true)\n",
            " |-- Gender: string (nullable = true)\n",
            " |-- Country: string (nullable = true)\n",
            " |-- Purchased: string (nullable = true)\n",
            "\n"
          ],
          "name": "stdout"
        }
      ]
    },
    {
      "cell_type": "code",
      "metadata": {
        "colab": {
          "base_uri": "https://localhost:8080/"
        },
        "id": "batvRk6aMIEf",
        "outputId": "f5298f54-3001-4824-cf13-570bb9fd3940"
      },
      "source": [
        "from pyspark.sql.types import IntegerType, FloatType\n",
        "bankProspectsDF2 = bankProspectsDF1.withColumn(\"Age\", bankProspectsDF1[\"Age\"].cast(IntegerType())).withColumn(\"Salary\", bankProspectsDF1[\"Salary\"].cast(FloatType()))\n",
        "\n",
        "bankProspectsDF2.printSchema()"
      ],
      "execution_count": 15,
      "outputs": [
        {
          "output_type": "stream",
          "text": [
            "root\n",
            " |-- Age: integer (nullable = true)\n",
            " |-- Salary: float (nullable = true)\n",
            " |-- Gender: string (nullable = true)\n",
            " |-- Country: string (nullable = true)\n",
            " |-- Purchased: string (nullable = true)\n",
            "\n"
          ],
          "name": "stdout"
        }
      ]
    },
    {
      "cell_type": "code",
      "metadata": {
        "colab": {
          "base_uri": "https://localhost:8080/"
        },
        "id": "msRFMYdaM3Cb",
        "outputId": "dcd6dcfe-69e8-4572-d222-f1996d81068c"
      },
      "source": [
        "from pyspark.sql.functions import mean\n",
        "mean_age_val = bankProspectsDF2.select(mean(bankProspectsDF2['age'])).collect()\n",
        "type(mean_age_val)\n",
        "mean_age = mean_age_val[0][0]\n",
        "mean_age"
      ],
      "execution_count": 17,
      "outputs": [
        {
          "output_type": "execute_result",
          "data": {
            "text/plain": [
              "22.11111111111111"
            ]
          },
          "metadata": {
            "tags": []
          },
          "execution_count": 17
        }
      ]
    },
    {
      "cell_type": "code",
      "metadata": {
        "colab": {
          "base_uri": "https://localhost:8080/"
        },
        "id": "C7XxUOc3NPEd",
        "outputId": "7f61a815-6808-4c0a-9647-de62e341e6b1"
      },
      "source": [
        "mean_salary_val = bankProspectsDF2.select(mean(bankProspectsDF2['salary'])).collect()\n",
        "mean_salary = mean_salary_val[0][0]\n",
        "mean_salary"
      ],
      "execution_count": 18,
      "outputs": [
        {
          "output_type": "execute_result",
          "data": {
            "text/plain": [
              "31875.0"
            ]
          },
          "metadata": {
            "tags": []
          },
          "execution_count": 18
        }
      ]
    },
    {
      "cell_type": "code",
      "metadata": {
        "colab": {
          "base_uri": "https://localhost:8080/"
        },
        "id": "C2Mo5LOVNRLc",
        "outputId": "785e5ce1-a4a3-4bde-825e-cad56620a1b4"
      },
      "source": [
        "bankProspectsDF2.show()\n",
        "bankbankProspectsDF3 = bankProspectsDF2.na.fill(mean_age,[\"age\"])\n",
        "bankbankProspectsDF3.show()\n",
        "bankbankProspectsDF4 = bankbankProspectsDF3.na.fill(mean_salary,[\"salary\"])\n",
        "bankbankProspectsDF4.show()\n",
        "bankbankProspectsDF4.printSchema()"
      ],
      "execution_count": 23,
      "outputs": [
        {
          "output_type": "stream",
          "text": [
            "+----+-------+------+-------+---------+\n",
            "| Age| Salary|Gender|Country|Purchased|\n",
            "+----+-------+------+-------+---------+\n",
            "|  18|20000.0|  Male|Germany|        N|\n",
            "|  19|22000.0|Female| France|        N|\n",
            "|  20|24000.0|Female|England|        N|\n",
            "|  21|   null|  Male|England|        N|\n",
            "|  22|50000.0|  Male| France|        Y|\n",
            "|  23|35000.0|Female|England|        N|\n",
            "|  24|   null|  Male|Germany|        N|\n",
            "|  25|32000.0|Female| France|        Y|\n",
            "|null|35000.0|  Male|Germany|        N|\n",
            "|  27|37000.0|Female| France|        N|\n",
            "+----+-------+------+-------+---------+\n",
            "\n",
            "+---+-------+------+-------+---------+\n",
            "|Age| Salary|Gender|Country|Purchased|\n",
            "+---+-------+------+-------+---------+\n",
            "| 18|20000.0|  Male|Germany|        N|\n",
            "| 19|22000.0|Female| France|        N|\n",
            "| 20|24000.0|Female|England|        N|\n",
            "| 21|   null|  Male|England|        N|\n",
            "| 22|50000.0|  Male| France|        Y|\n",
            "| 23|35000.0|Female|England|        N|\n",
            "| 24|   null|  Male|Germany|        N|\n",
            "| 25|32000.0|Female| France|        Y|\n",
            "| 22|35000.0|  Male|Germany|        N|\n",
            "| 27|37000.0|Female| France|        N|\n",
            "+---+-------+------+-------+---------+\n",
            "\n",
            "+---+-------+------+-------+---------+\n",
            "|Age| Salary|Gender|Country|Purchased|\n",
            "+---+-------+------+-------+---------+\n",
            "| 18|20000.0|  Male|Germany|        N|\n",
            "| 19|22000.0|Female| France|        N|\n",
            "| 20|24000.0|Female|England|        N|\n",
            "| 21|31875.0|  Male|England|        N|\n",
            "| 22|50000.0|  Male| France|        Y|\n",
            "| 23|35000.0|Female|England|        N|\n",
            "| 24|31875.0|  Male|Germany|        N|\n",
            "| 25|32000.0|Female| France|        Y|\n",
            "| 22|35000.0|  Male|Germany|        N|\n",
            "| 27|37000.0|Female| France|        N|\n",
            "+---+-------+------+-------+---------+\n",
            "\n",
            "root\n",
            " |-- Age: integer (nullable = true)\n",
            " |-- Salary: float (nullable = false)\n",
            " |-- Gender: string (nullable = true)\n",
            " |-- Country: string (nullable = true)\n",
            " |-- Purchased: string (nullable = true)\n",
            "\n"
          ],
          "name": "stdout"
        }
      ]
    },
    {
      "cell_type": "code",
      "metadata": {
        "id": "fLkt0E-8NomE"
      },
      "source": [
        "bankbankProspectsDF4.write.format(\"csv\").save(\"bank_prospects_transformed\")"
      ],
      "execution_count": 24,
      "outputs": []
    },
    {
      "cell_type": "code",
      "metadata": {
        "colab": {
          "base_uri": "https://localhost:8080/"
        },
        "id": "X1XsIIEqNsaV",
        "outputId": "a5f36d82-53f6-4014-e3d2-0e2870ed81e9"
      },
      "source": [
        "!ls\n",
        "!ls bank_prospects_transformed/"
      ],
      "execution_count": 26,
      "outputs": [
        {
          "output_type": "stream",
          "text": [
            "bank_prospects.csv\t    spark-2.4.3-bin-hadoop2.6\n",
            "bank_prospects_transformed  spark-2.4.3-bin-hadoop2.6.tgz\n",
            "sample_data\n",
            "part-00000-3f1ed220-297b-4b76-94cd-e1c3b5a4d81c-c000.csv  _SUCCESS\n"
          ],
          "name": "stdout"
        }
      ]
    }
  ]
}