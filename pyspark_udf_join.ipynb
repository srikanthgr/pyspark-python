{
  "nbformat": 4,
  "nbformat_minor": 0,
  "metadata": {
    "colab": {
      "name": "pyspark_udf_join.ipynb",
      "provenance": [],
      "authorship_tag": "ABX9TyOQ7wNVkcuJ5rOB015xlogl",
      "include_colab_link": true
    },
    "kernelspec": {
      "name": "python3",
      "display_name": "Python 3"
    }
  },
  "cells": [
    {
      "cell_type": "markdown",
      "metadata": {
        "id": "view-in-github",
        "colab_type": "text"
      },
      "source": [
        "<a href=\"https://colab.research.google.com/github/srikanthgr/pyspark-python/blob/main/pyspark_udf_join.ipynb\" target=\"_parent\"><img src=\"https://colab.research.google.com/assets/colab-badge.svg\" alt=\"Open In Colab\"/></a>"
      ]
    },
    {
      "cell_type": "code",
      "metadata": {
        "id": "L58Z-OM36wmi"
      },
      "source": [
        "!apt-get install openjdk-8-jdk-headless -qq > /dev/null\n",
        "!wget -q https://archive.apache.org/dist/spark/spark-2.4.3/spark-2.4.3-bin-hadoop2.6.tgz\n",
        "!tar -xvf spark-2.4.3-bin-hadoop2.6.tgz\n",
        "!pip install -q findspark\n",
        "import os\n",
        "os.environ[\"JAVA_HOME\"] = \"/usr/lib/jvm/java-8-openjdk-amd64\"\n",
        "os.environ[\"SPARK_HOME\"] = \"/content/spark-2.4.3-bin-hadoop2.6\"\n",
        "import findspark\n",
        "findspark.init()\n",
        "from pyspark.sql import SparkSession\n",
        "spark = SparkSession.builder.master(\"local[*]\").getOrCreate()"
      ],
      "execution_count": null,
      "outputs": []
    },
    {
      "cell_type": "code",
      "metadata": {
        "colab": {
          "base_uri": "https://localhost:8080/"
        },
        "id": "k79Ieh2FEss3",
        "outputId": "08cd6652-e9e6-4166-8e9f-ccf9f736e694"
      },
      "source": [
        "df = spark.createDataFrame([{\"Google\": \"Colab\",\"Spark\": \"Scala\"} ,{\"Google\": \"Dataproc\",\"Spark\":\"Python\"}])\n",
        "df.show()"
      ],
      "execution_count": 2,
      "outputs": [
        {
          "output_type": "stream",
          "text": [
            "/content/spark-2.4.3-bin-hadoop2.6/python/pyspark/sql/session.py:346: UserWarning: inferring schema from dict is deprecated,please use pyspark.sql.Row instead\n",
            "  warnings.warn(\"inferring schema from dict is deprecated,\"\n"
          ],
          "name": "stderr"
        },
        {
          "output_type": "stream",
          "text": [
            "+--------+------+\n",
            "|  Google| Spark|\n",
            "+--------+------+\n",
            "|   Colab| Scala|\n",
            "|Dataproc|Python|\n",
            "+--------+------+\n",
            "\n"
          ],
          "name": "stdout"
        }
      ]
    },
    {
      "cell_type": "code",
      "metadata": {
        "colab": {
          "base_uri": "https://localhost:8080/"
        },
        "id": "gUEXBwynFH4W",
        "outputId": "e52e11b2-6d32-4178-99af-ef8f7e203ae7"
      },
      "source": [
        "!wget https://raw.githubusercontent.com/srikanthgr/pyspark-python/main/store_customers.csv"
      ],
      "execution_count": 3,
      "outputs": [
        {
          "output_type": "stream",
          "text": [
            "--2021-03-05 06:30:32--  https://raw.githubusercontent.com/srikanthgr/pyspark-python/main/store_customers.csv\n",
            "Resolving raw.githubusercontent.com (raw.githubusercontent.com)... 185.199.110.133, 185.199.109.133, 185.199.111.133, ...\n",
            "Connecting to raw.githubusercontent.com (raw.githubusercontent.com)|185.199.110.133|:443... connected.\n",
            "HTTP request sent, awaiting response... 200 OK\n",
            "Length: 199132 (194K) [text/plain]\n",
            "Saving to: ‘store_customers.csv’\n",
            "\n",
            "store_customers.csv 100%[===================>] 194.46K  --.-KB/s    in 0.03s   \n",
            "\n",
            "2021-03-05 06:30:33 (6.42 MB/s) - ‘store_customers.csv’ saved [199132/199132]\n",
            "\n"
          ],
          "name": "stdout"
        }
      ]
    },
    {
      "cell_type": "code",
      "metadata": {
        "colab": {
          "base_uri": "https://localhost:8080/"
        },
        "id": "3PZowMTUFR9g",
        "outputId": "9020f91a-40df-4efb-fc59-eb6e219bf46d"
      },
      "source": [
        "!wget https://raw.githubusercontent.com/srikanthgr/pyspark-python/main/store_transactions.csv"
      ],
      "execution_count": 4,
      "outputs": [
        {
          "output_type": "stream",
          "text": [
            "--2021-03-05 06:31:12--  https://raw.githubusercontent.com/srikanthgr/pyspark-python/main/store_transactions.csv\n",
            "Resolving raw.githubusercontent.com (raw.githubusercontent.com)... 185.199.109.133, 185.199.108.133, 185.199.110.133, ...\n",
            "Connecting to raw.githubusercontent.com (raw.githubusercontent.com)|185.199.109.133|:443... connected.\n",
            "HTTP request sent, awaiting response... 200 OK\n",
            "Length: 7257374 (6.9M) [text/plain]\n",
            "Saving to: ‘store_transactions.csv’\n",
            "\n",
            "store_transactions. 100%[===================>]   6.92M  39.0MB/s    in 0.2s    \n",
            "\n",
            "2021-03-05 06:31:13 (39.0 MB/s) - ‘store_transactions.csv’ saved [7257374/7257374]\n",
            "\n"
          ],
          "name": "stdout"
        }
      ]
    },
    {
      "cell_type": "code",
      "metadata": {
        "colab": {
          "base_uri": "https://localhost:8080/"
        },
        "id": "Vgly09-5FXZp",
        "outputId": "17c4d88a-e2c8-408a-d1af-9dada0b30199"
      },
      "source": [
        "!ls "
      ],
      "execution_count": 5,
      "outputs": [
        {
          "output_type": "stream",
          "text": [
            "\u001b[0m\u001b[01;34msample_data\u001b[0m/                   store_customers.csv\n",
            "\u001b[01;34mspark-2.4.3-bin-hadoop2.6\u001b[0m/     store_transactions.csv\n",
            "spark-2.4.3-bin-hadoop2.6.tgz\n"
          ],
          "name": "stdout"
        }
      ]
    },
    {
      "cell_type": "code",
      "metadata": {
        "colab": {
          "base_uri": "https://localhost:8080/"
        },
        "id": "Xpq2MGCDFaJR",
        "outputId": "34d0269b-bf4f-4e05-89c2-4cecd52ab1eb"
      },
      "source": [
        "customerDf = spark.read.csv(\"store_customers.csv\", header=True)\n",
        "customerDf.show()"
      ],
      "execution_count": 7,
      "outputs": [
        {
          "output_type": "stream",
          "text": [
            "+----------+---+------+------+-------+\n",
            "|CustomerID|Age|Salary|Gender|Country|\n",
            "+----------+---+------+------+-------+\n",
            "|         1| 72| 20000|  Male|Germany|\n",
            "|         2| 72| 22000|Female| France|\n",
            "|         3| 70| 24000|Female|England|\n",
            "|         4| 75|  2600|  Male|England|\n",
            "|         5| 33| 50000|  Male| France|\n",
            "|         6| 52| 35000|Female|England|\n",
            "|         7| 31|  4300|  Male|Germany|\n",
            "|         8| 37| 32000|Female| France|\n",
            "|         9| 76| 35000|  Male|Germany|\n",
            "|        10| 58| 37000|Female| France|\n",
            "|        11| 70| 25000|  Male|Germany|\n",
            "|        12| 28| 27000|Female| France|\n",
            "|        13| 21| 29000|Female|England|\n",
            "|        14| 34|  7600|  Male|England|\n",
            "|        15| 45| 55000|  Male| France|\n",
            "|        16| 32| 40000|Female|England|\n",
            "|        17| 62|  9300|  Male|Germany|\n",
            "|        18| 54| 37000|Female| France|\n",
            "|        19| 33| 40000|  Male|Germany|\n",
            "|        20| 46| 42000|Female| France|\n",
            "+----------+---+------+------+-------+\n",
            "only showing top 20 rows\n",
            "\n"
          ],
          "name": "stdout"
        }
      ]
    },
    {
      "cell_type": "code",
      "metadata": {
        "colab": {
          "base_uri": "https://localhost:8080/"
        },
        "id": "rnzea3U_FqTL",
        "outputId": "42392df0-0171-4431-f3b7-9214daa4048a"
      },
      "source": [
        "customerDf.count()"
      ],
      "execution_count": 8,
      "outputs": [
        {
          "output_type": "execute_result",
          "data": {
            "text/plain": [
              "7000"
            ]
          },
          "metadata": {
            "tags": []
          },
          "execution_count": 8
        }
      ]
    },
    {
      "cell_type": "code",
      "metadata": {
        "colab": {
          "base_uri": "https://localhost:8080/"
        },
        "id": "uNPlTYPsFs4P",
        "outputId": "7e2ceba2-e960-4e00-d81b-cd928e3c23fb"
      },
      "source": [
        "transactionDF = spark.read.csv(\"store_transactions.csv\", header=True)\n",
        "transactionDF.show()"
      ],
      "execution_count": 9,
      "outputs": [
        {
          "output_type": "stream",
          "text": [
            "+----------+---------+------+----------+\n",
            "|CustomerID|ProductID|Amount|      Date|\n",
            "+----------+---------+------+----------+\n",
            "|      3427|        3|  7541|22-11-2019|\n",
            "|      4378|       14|  7271|15-12-2019|\n",
            "|      3751|       47|  4276|20-11-2019|\n",
            "|      6899|      146|  8923|22-11-2019|\n",
            "|      4561|       46|  4891|30-11-2019|\n",
            "|      2299|      143|  7545|05-12-2019|\n",
            "|       553|       43|  1147|08-12-2019|\n",
            "|      3406|      134|   245|12-12-2019|\n",
            "|      5278|       34|  8765|09-12-2019|\n",
            "|      2456|       68|  3820|30-11-2019|\n",
            "|      6963|       58|  1850|27-11-2019|\n",
            "|      4700|      140|  3948|27-11-2019|\n",
            "|      3566|       76|   401|17-12-2019|\n",
            "|      2212|       38|  4750|16-12-2019|\n",
            "|      4677|       18|  1149|18-11-2019|\n",
            "|      4295|       35|  3241|19-11-2019|\n",
            "|      4228|       91|  6405|01-12-2019|\n",
            "|      2466|       83|  2978|10-12-2019|\n",
            "|      3136|       67|  6581|28-11-2019|\n",
            "|      6563|       80|  2878|21-11-2019|\n",
            "+----------+---------+------+----------+\n",
            "only showing top 20 rows\n",
            "\n"
          ],
          "name": "stdout"
        }
      ]
    },
    {
      "cell_type": "code",
      "metadata": {
        "colab": {
          "base_uri": "https://localhost:8080/"
        },
        "id": "m2NppsquF-Ou",
        "outputId": "0d854109-18b7-48a9-d03d-ab8f54f1a25d"
      },
      "source": [
        "transactionDF.count()"
      ],
      "execution_count": 10,
      "outputs": [
        {
          "output_type": "execute_result",
          "data": {
            "text/plain": [
              "1048575"
            ]
          },
          "metadata": {
            "tags": []
          },
          "execution_count": 10
        }
      ]
    },
    {
      "cell_type": "code",
      "metadata": {
        "colab": {
          "base_uri": "https://localhost:8080/"
        },
        "id": "1Kvv-B7QGAy4",
        "outputId": "2afce555-68de-447d-f7d5-6023e0998887"
      },
      "source": [
        "from pyspark.sql.functions import udf\n",
        "\n",
        "extract_year = udf (lambda Date:Date.split('-')[2])\n",
        "\n",
        "transactionDF = transactionDF.withColumn(\"year\",extract_year(transactionDF.Date))\n",
        "\n",
        "transactionDF.show()"
      ],
      "execution_count": 13,
      "outputs": [
        {
          "output_type": "stream",
          "text": [
            "+----------+---------+------+----------+----+\n",
            "|CustomerID|ProductID|Amount|      Date|year|\n",
            "+----------+---------+------+----------+----+\n",
            "|      3427|        3|  7541|22-11-2019|2019|\n",
            "|      4378|       14|  7271|15-12-2019|2019|\n",
            "|      3751|       47|  4276|20-11-2019|2019|\n",
            "|      6899|      146|  8923|22-11-2019|2019|\n",
            "|      4561|       46|  4891|30-11-2019|2019|\n",
            "|      2299|      143|  7545|05-12-2019|2019|\n",
            "|       553|       43|  1147|08-12-2019|2019|\n",
            "|      3406|      134|   245|12-12-2019|2019|\n",
            "|      5278|       34|  8765|09-12-2019|2019|\n",
            "|      2456|       68|  3820|30-11-2019|2019|\n",
            "|      6963|       58|  1850|27-11-2019|2019|\n",
            "|      4700|      140|  3948|27-11-2019|2019|\n",
            "|      3566|       76|   401|17-12-2019|2019|\n",
            "|      2212|       38|  4750|16-12-2019|2019|\n",
            "|      4677|       18|  1149|18-11-2019|2019|\n",
            "|      4295|       35|  3241|19-11-2019|2019|\n",
            "|      4228|       91|  6405|01-12-2019|2019|\n",
            "|      2466|       83|  2978|10-12-2019|2019|\n",
            "|      3136|       67|  6581|28-11-2019|2019|\n",
            "|      6563|       80|  2878|21-11-2019|2019|\n",
            "+----------+---------+------+----------+----+\n",
            "only showing top 20 rows\n",
            "\n"
          ],
          "name": "stdout"
        }
      ]
    },
    {
      "cell_type": "code",
      "metadata": {
        "colab": {
          "base_uri": "https://localhost:8080/"
        },
        "id": "s5-SSSn3G-N9",
        "outputId": "4bb4f04a-b4ef-4177-d72a-ab938b3f05e4"
      },
      "source": [
        "country_spend_details = customerDf.join(transactionDF, customerDf.CustomerID == transactionDF.CustomerID)\n",
        "country_spend_details.show()"
      ],
      "execution_count": 15,
      "outputs": [
        {
          "output_type": "stream",
          "text": [
            "+----------+---+------+------+-------+----------+---------+------+----------+----+\n",
            "|CustomerID|Age|Salary|Gender|Country|CustomerID|ProductID|Amount|      Date|year|\n",
            "+----------+---+------+------+-------+----------+---------+------+----------+----+\n",
            "|      3427| 69| 14300|Female|England|      3427|        3|  7541|22-11-2019|2019|\n",
            "|      4378| 78| 42000|  Male|Germany|      4378|       14|  7271|15-12-2019|2019|\n",
            "|      3751| 57| 45000|Female|England|      3751|       47|  4276|20-11-2019|2019|\n",
            "|      6899| 34| 12600|  Male|Germany|      6899|      146|  8923|22-11-2019|2019|\n",
            "|      4561| 37| 50000|Female|Germany|      4561|       46|  4891|30-11-2019|2019|\n",
            "|      2299| 50| 12600|Female| France|      2299|      143|  7545|05-12-2019|2019|\n",
            "|       553| 29| 42000|  Male|Germany|       553|       43|  1147|08-12-2019|2019|\n",
            "|      3406| 37| 35000|Female|England|      3406|      134|   245|12-12-2019|2019|\n",
            "|      5278| 64| 42000|Female|England|      5278|       34|  8765|09-12-2019|2019|\n",
            "|      2456| 77| 35000|Female|Germany|      2456|       68|  3820|30-11-2019|2019|\n",
            "|      6963| 26| 29000|  Male|Germany|      6963|       58|  1850|27-11-2019|2019|\n",
            "|      4700| 40| 60000|Female|Germany|      4700|      140|  3948|27-11-2019|2019|\n",
            "|      3566| 56| 40000|  Male|England|      3566|       76|   401|17-12-2019|2019|\n",
            "|      2212| 28| 19300|  Male|England|      2212|       38|  4750|16-12-2019|2019|\n",
            "|      4677| 37| 14300|  Male| France|      4677|       18|  1149|18-11-2019|2019|\n",
            "|      4295| 60| 42000|  Male|Germany|      4295|       35|  3241|19-11-2019|2019|\n",
            "|      4228| 36| 42000|Female|England|      4228|       91|  6405|01-12-2019|2019|\n",
            "|      2466| 75| 40000|  Male|England|      2466|       83|  2978|10-12-2019|2019|\n",
            "|      3136| 39| 50000|Female| France|      3136|       67|  6581|28-11-2019|2019|\n",
            "|      6563| 47| 29000|Female|England|      6563|       80|  2878|21-11-2019|2019|\n",
            "+----------+---+------+------+-------+----------+---------+------+----------+----+\n",
            "only showing top 20 rows\n",
            "\n"
          ],
          "name": "stdout"
        }
      ]
    },
    {
      "cell_type": "code",
      "metadata": {
        "colab": {
          "base_uri": "https://localhost:8080/"
        },
        "id": "MC02xWsZHYry",
        "outputId": "2558ce30-e143-4d98-d866-ed7b55533d9c"
      },
      "source": [
        "country_spend_details.groupBy(\"Country\").agg({\"Amount\":\"sum\"}).show()"
      ],
      "execution_count": 16,
      "outputs": [
        {
          "output_type": "stream",
          "text": [
            "+-------+------------+\n",
            "|Country| sum(Amount)|\n",
            "+-------+------------+\n",
            "|Germany|1.34377551E8|\n",
            "| France|1.45868556E8|\n",
            "|England|2.30855023E8|\n",
            "+-------+------------+\n",
            "\n"
          ],
          "name": "stdout"
        }
      ]
    },
    {
      "cell_type": "code",
      "metadata": {
        "colab": {
          "base_uri": "https://localhost:8080/"
        },
        "id": "hvwWpjJUHwem",
        "outputId": "086f56ca-b4d2-4f53-d68a-b6021b596234"
      },
      "source": [
        "!wget https://raw.githubusercontent.com/srikanthgr/pyspark-python/main/store_customers_mini.csv"
      ],
      "execution_count": 17,
      "outputs": [
        {
          "output_type": "stream",
          "text": [
            "--2021-03-05 06:42:00--  https://raw.githubusercontent.com/srikanthgr/pyspark-python/main/store_customers_mini.csv\n",
            "Resolving raw.githubusercontent.com (raw.githubusercontent.com)... 185.199.111.133, 185.199.110.133, 185.199.108.133, ...\n",
            "Connecting to raw.githubusercontent.com (raw.githubusercontent.com)|185.199.111.133|:443... connected.\n",
            "HTTP request sent, awaiting response... 200 OK\n",
            "Length: 190 [text/plain]\n",
            "Saving to: ‘store_customers_mini.csv’\n",
            "\n",
            "store_customers_min 100%[===================>]     190  --.-KB/s    in 0s      \n",
            "\n",
            "2021-03-05 06:42:00 (12.5 MB/s) - ‘store_customers_mini.csv’ saved [190/190]\n",
            "\n"
          ],
          "name": "stdout"
        }
      ]
    },
    {
      "cell_type": "code",
      "metadata": {
        "colab": {
          "base_uri": "https://localhost:8080/"
        },
        "id": "UxVUl8X7H0JD",
        "outputId": "29c1b00e-babb-42a9-e41b-2ee7a7e0cdd6"
      },
      "source": [
        "!wget https://raw.githubusercontent.com/srikanthgr/pyspark-python/main/store_transactions_mini.csv"
      ],
      "execution_count": 18,
      "outputs": [
        {
          "output_type": "stream",
          "text": [
            "--2021-03-05 06:42:16--  https://raw.githubusercontent.com/srikanthgr/pyspark-python/main/store_transactions_mini.csv\n",
            "Resolving raw.githubusercontent.com (raw.githubusercontent.com)... 185.199.110.133, 185.199.111.133, 185.199.109.133, ...\n",
            "Connecting to raw.githubusercontent.com (raw.githubusercontent.com)|185.199.110.133|:443... connected.\n",
            "HTTP request sent, awaiting response... 200 OK\n",
            "Length: 167 [text/plain]\n",
            "Saving to: ‘store_transactions_mini.csv’\n",
            "\n",
            "\r          store_tra   0%[                    ]       0  --.-KB/s               \rstore_transactions_ 100%[===================>]     167  --.-KB/s    in 0s      \n",
            "\n",
            "2021-03-05 06:42:16 (6.43 MB/s) - ‘store_transactions_mini.csv’ saved [167/167]\n",
            "\n"
          ],
          "name": "stdout"
        }
      ]
    },
    {
      "cell_type": "code",
      "metadata": {
        "colab": {
          "base_uri": "https://localhost:8080/"
        },
        "id": "GFxjsYY3H2xs",
        "outputId": "d41f22fc-83d9-49cf-a83c-f9cb03f9ca8a"
      },
      "source": [
        "!ls"
      ],
      "execution_count": 19,
      "outputs": [
        {
          "output_type": "stream",
          "text": [
            "sample_data\t\t       store_customers_mini.csv\n",
            "spark-2.4.3-bin-hadoop2.6      store_transactions.csv\n",
            "spark-2.4.3-bin-hadoop2.6.tgz  store_transactions_mini.csv\n",
            "store_customers.csv\n"
          ],
          "name": "stdout"
        }
      ]
    },
    {
      "cell_type": "code",
      "metadata": {
        "colab": {
          "base_uri": "https://localhost:8080/"
        },
        "id": "AFRT3FgPH5IL",
        "outputId": "6cd5e810-cb9c-4499-92fc-34e25d57b635"
      },
      "source": [
        "customerDFMini = spark.read.csv(\"store_customers_mini.csv\", header=True)\n",
        "customerDFMini.show()"
      ],
      "execution_count": 22,
      "outputs": [
        {
          "output_type": "stream",
          "text": [
            "+----------+---+------+------+-------+\n",
            "|CustomerID|Age|Salary|Gender|Country|\n",
            "+----------+---+------+------+-------+\n",
            "|         1| 72| 20000|  Male|Germany|\n",
            "|         2| 72| 22000|Female| France|\n",
            "|         5| 33| 50000|  Male| France|\n",
            "|         6| 52| 35000|Female|England|\n",
            "|         7| 31|  4300|  Male|Germany|\n",
            "|         8| 37| 32000|Female| France|\n",
            "+----------+---+------+------+-------+\n",
            "\n"
          ],
          "name": "stdout"
        }
      ]
    },
    {
      "cell_type": "code",
      "metadata": {
        "colab": {
          "base_uri": "https://localhost:8080/"
        },
        "id": "pdvTaEoYILCA",
        "outputId": "1c0788f7-f397-4268-ec9b-47e71c3f0028"
      },
      "source": [
        "transactionDFMini = spark.read.csv(\"store_transactions_mini.csv\",header=True)\n",
        "transactionDFMini.show()"
      ],
      "execution_count": 23,
      "outputs": [
        {
          "output_type": "stream",
          "text": [
            "+----------+---------+------+----------+\n",
            "|CustomerID|ProductID|Amount|      Date|\n",
            "+----------+---------+------+----------+\n",
            "|         1|        3|  7541|22-11-2019|\n",
            "|         2|       14|  7271|15-12-2019|\n",
            "|         3|       47|  4276|20-11-2019|\n",
            "|         4|      146|  8923|22-11-2019|\n",
            "|         5|       46|  4891|30-11-2019|\n",
            "|         6|      143|  7545|05-12-2019|\n",
            "+----------+---------+------+----------+\n",
            "\n"
          ],
          "name": "stdout"
        }
      ]
    },
    {
      "cell_type": "code",
      "metadata": {
        "colab": {
          "base_uri": "https://localhost:8080/"
        },
        "id": "whJ2MrO4IZcV",
        "outputId": "86c83fa9-4ae7-4826-9901-a6ad6d2702fa"
      },
      "source": [
        "customerDFMini.join(transactionDFMini, customerDFMini.CustomerID == transactionDFMini.CustomerID).show()"
      ],
      "execution_count": 25,
      "outputs": [
        {
          "output_type": "stream",
          "text": [
            "+----------+---+------+------+-------+----------+---------+------+----------+\n",
            "|CustomerID|Age|Salary|Gender|Country|CustomerID|ProductID|Amount|      Date|\n",
            "+----------+---+------+------+-------+----------+---------+------+----------+\n",
            "|         1| 72| 20000|  Male|Germany|         1|        3|  7541|22-11-2019|\n",
            "|         2| 72| 22000|Female| France|         2|       14|  7271|15-12-2019|\n",
            "|         5| 33| 50000|  Male| France|         5|       46|  4891|30-11-2019|\n",
            "|         6| 52| 35000|Female|England|         6|      143|  7545|05-12-2019|\n",
            "+----------+---+------+------+-------+----------+---------+------+----------+\n",
            "\n"
          ],
          "name": "stdout"
        }
      ]
    },
    {
      "cell_type": "code",
      "metadata": {
        "colab": {
          "base_uri": "https://localhost:8080/"
        },
        "id": "dwvxtzCvIxNo",
        "outputId": "e8a934e8-a18f-478b-f7c3-e7edc4021d43"
      },
      "source": [
        "customerDFMini.join(transactionDFMini, customerDFMini.CustomerID == transactionDFMini.CustomerID, how= \"inner\").show()"
      ],
      "execution_count": 26,
      "outputs": [
        {
          "output_type": "stream",
          "text": [
            "+----------+---+------+------+-------+----------+---------+------+----------+\n",
            "|CustomerID|Age|Salary|Gender|Country|CustomerID|ProductID|Amount|      Date|\n",
            "+----------+---+------+------+-------+----------+---------+------+----------+\n",
            "|         1| 72| 20000|  Male|Germany|         1|        3|  7541|22-11-2019|\n",
            "|         2| 72| 22000|Female| France|         2|       14|  7271|15-12-2019|\n",
            "|         5| 33| 50000|  Male| France|         5|       46|  4891|30-11-2019|\n",
            "|         6| 52| 35000|Female|England|         6|      143|  7545|05-12-2019|\n",
            "+----------+---+------+------+-------+----------+---------+------+----------+\n",
            "\n"
          ],
          "name": "stdout"
        }
      ]
    },
    {
      "cell_type": "code",
      "metadata": {
        "colab": {
          "base_uri": "https://localhost:8080/"
        },
        "id": "YWcRZT4vI4la",
        "outputId": "bff8a790-dcf1-4117-ed58-fa6357d4abae"
      },
      "source": [
        "customerDFMini.join(transactionDFMini, customerDFMini.CustomerID == transactionDFMini.CustomerID, how=\"left\").show()"
      ],
      "execution_count": 27,
      "outputs": [
        {
          "output_type": "stream",
          "text": [
            "+----------+---+------+------+-------+----------+---------+------+----------+\n",
            "|CustomerID|Age|Salary|Gender|Country|CustomerID|ProductID|Amount|      Date|\n",
            "+----------+---+------+------+-------+----------+---------+------+----------+\n",
            "|         1| 72| 20000|  Male|Germany|         1|        3|  7541|22-11-2019|\n",
            "|         2| 72| 22000|Female| France|         2|       14|  7271|15-12-2019|\n",
            "|         5| 33| 50000|  Male| France|         5|       46|  4891|30-11-2019|\n",
            "|         6| 52| 35000|Female|England|         6|      143|  7545|05-12-2019|\n",
            "|         7| 31|  4300|  Male|Germany|      null|     null|  null|      null|\n",
            "|         8| 37| 32000|Female| France|      null|     null|  null|      null|\n",
            "+----------+---+------+------+-------+----------+---------+------+----------+\n",
            "\n"
          ],
          "name": "stdout"
        }
      ]
    },
    {
      "cell_type": "code",
      "metadata": {
        "colab": {
          "base_uri": "https://localhost:8080/"
        },
        "id": "03ELEShqI-5R",
        "outputId": "2bbb45c2-222a-4e74-a9a8-a3153664c99a"
      },
      "source": [
        "customerDFMini.join(transactionDFMini, customerDFMini.CustomerID == transactionDFMini.CustomerID, how=\"right\").show()"
      ],
      "execution_count": 28,
      "outputs": [
        {
          "output_type": "stream",
          "text": [
            "+----------+----+------+------+-------+----------+---------+------+----------+\n",
            "|CustomerID| Age|Salary|Gender|Country|CustomerID|ProductID|Amount|      Date|\n",
            "+----------+----+------+------+-------+----------+---------+------+----------+\n",
            "|         1|  72| 20000|  Male|Germany|         1|        3|  7541|22-11-2019|\n",
            "|         2|  72| 22000|Female| France|         2|       14|  7271|15-12-2019|\n",
            "|      null|null|  null|  null|   null|         3|       47|  4276|20-11-2019|\n",
            "|      null|null|  null|  null|   null|         4|      146|  8923|22-11-2019|\n",
            "|         5|  33| 50000|  Male| France|         5|       46|  4891|30-11-2019|\n",
            "|         6|  52| 35000|Female|England|         6|      143|  7545|05-12-2019|\n",
            "+----------+----+------+------+-------+----------+---------+------+----------+\n",
            "\n"
          ],
          "name": "stdout"
        }
      ]
    },
    {
      "cell_type": "code",
      "metadata": {
        "colab": {
          "base_uri": "https://localhost:8080/"
        },
        "id": "J61LgsnsJHwY",
        "outputId": "4b6c51f2-8b89-4451-d4e0-65407dba8bf7"
      },
      "source": [
        "customerDFMini.join(transactionDFMini, customerDFMini.CustomerID == transactionDFMini.CustomerID, how=\"full\").show()"
      ],
      "execution_count": 29,
      "outputs": [
        {
          "output_type": "stream",
          "text": [
            "+----------+----+------+------+-------+----------+---------+------+----------+\n",
            "|CustomerID| Age|Salary|Gender|Country|CustomerID|ProductID|Amount|      Date|\n",
            "+----------+----+------+------+-------+----------+---------+------+----------+\n",
            "|         7|  31|  4300|  Male|Germany|      null|     null|  null|      null|\n",
            "|      null|null|  null|  null|   null|         3|       47|  4276|20-11-2019|\n",
            "|         8|  37| 32000|Female| France|      null|     null|  null|      null|\n",
            "|         5|  33| 50000|  Male| France|         5|       46|  4891|30-11-2019|\n",
            "|         6|  52| 35000|Female|England|         6|      143|  7545|05-12-2019|\n",
            "|         1|  72| 20000|  Male|Germany|         1|        3|  7541|22-11-2019|\n",
            "|      null|null|  null|  null|   null|         4|      146|  8923|22-11-2019|\n",
            "|         2|  72| 22000|Female| France|         2|       14|  7271|15-12-2019|\n",
            "+----------+----+------+------+-------+----------+---------+------+----------+\n",
            "\n"
          ],
          "name": "stdout"
        }
      ]
    },
    {
      "cell_type": "code",
      "metadata": {
        "colab": {
          "base_uri": "https://localhost:8080/"
        },
        "id": "r8ipOpm4JQyV",
        "outputId": "ea8a761c-8235-4719-efec-52a7b7c6bb76"
      },
      "source": [
        "customerDFMini.join(transactionDFMini,customerDFMini.CustomerID == transactionDFMini.CustomerID, how=\"left_semi\" ).show()"
      ],
      "execution_count": 30,
      "outputs": [
        {
          "output_type": "stream",
          "text": [
            "+----------+---+------+------+-------+\n",
            "|CustomerID|Age|Salary|Gender|Country|\n",
            "+----------+---+------+------+-------+\n",
            "|         1| 72| 20000|  Male|Germany|\n",
            "|         2| 72| 22000|Female| France|\n",
            "|         5| 33| 50000|  Male| France|\n",
            "|         6| 52| 35000|Female|England|\n",
            "+----------+---+------+------+-------+\n",
            "\n"
          ],
          "name": "stdout"
        }
      ]
    },
    {
      "cell_type": "code",
      "metadata": {
        "colab": {
          "base_uri": "https://localhost:8080/"
        },
        "id": "0eZZ0-t1JTZT",
        "outputId": "c88849eb-0a76-40de-becf-1965cfb917bb"
      },
      "source": [
        "customerDFMini.join(transactionDFMini,customerDFMini.CustomerID == transactionDFMini.CustomerID, how=\"left_anti\" ).show()\n"
      ],
      "execution_count": 31,
      "outputs": [
        {
          "output_type": "stream",
          "text": [
            "+----------+---+------+------+-------+\n",
            "|CustomerID|Age|Salary|Gender|Country|\n",
            "+----------+---+------+------+-------+\n",
            "|         7| 31|  4300|  Male|Germany|\n",
            "|         8| 37| 32000|Female| France|\n",
            "+----------+---+------+------+-------+\n",
            "\n"
          ],
          "name": "stdout"
        }
      ]
    },
    {
      "cell_type": "code",
      "metadata": {
        "colab": {
          "base_uri": "https://localhost:8080/"
        },
        "id": "qyVjTV6OJX4T",
        "outputId": "d77c8925-5d9b-4bd3-9d6c-cb13649ac78d"
      },
      "source": [
        "customerDFMini.join(transactionDFMini,customerDFMini.CustomerID > transactionDFMini.CustomerID,how=\"inner\" ).show()"
      ],
      "execution_count": 32,
      "outputs": [
        {
          "output_type": "stream",
          "text": [
            "+----------+---+------+------+-------+----------+---------+------+----------+\n",
            "|CustomerID|Age|Salary|Gender|Country|CustomerID|ProductID|Amount|      Date|\n",
            "+----------+---+------+------+-------+----------+---------+------+----------+\n",
            "|         2| 72| 22000|Female| France|         1|        3|  7541|22-11-2019|\n",
            "|         5| 33| 50000|  Male| France|         1|        3|  7541|22-11-2019|\n",
            "|         5| 33| 50000|  Male| France|         2|       14|  7271|15-12-2019|\n",
            "|         5| 33| 50000|  Male| France|         3|       47|  4276|20-11-2019|\n",
            "|         5| 33| 50000|  Male| France|         4|      146|  8923|22-11-2019|\n",
            "|         6| 52| 35000|Female|England|         1|        3|  7541|22-11-2019|\n",
            "|         6| 52| 35000|Female|England|         2|       14|  7271|15-12-2019|\n",
            "|         6| 52| 35000|Female|England|         3|       47|  4276|20-11-2019|\n",
            "|         6| 52| 35000|Female|England|         4|      146|  8923|22-11-2019|\n",
            "|         6| 52| 35000|Female|England|         5|       46|  4891|30-11-2019|\n",
            "|         7| 31|  4300|  Male|Germany|         1|        3|  7541|22-11-2019|\n",
            "|         7| 31|  4300|  Male|Germany|         2|       14|  7271|15-12-2019|\n",
            "|         7| 31|  4300|  Male|Germany|         3|       47|  4276|20-11-2019|\n",
            "|         7| 31|  4300|  Male|Germany|         4|      146|  8923|22-11-2019|\n",
            "|         7| 31|  4300|  Male|Germany|         5|       46|  4891|30-11-2019|\n",
            "|         7| 31|  4300|  Male|Germany|         6|      143|  7545|05-12-2019|\n",
            "|         8| 37| 32000|Female| France|         1|        3|  7541|22-11-2019|\n",
            "|         8| 37| 32000|Female| France|         2|       14|  7271|15-12-2019|\n",
            "|         8| 37| 32000|Female| France|         3|       47|  4276|20-11-2019|\n",
            "|         8| 37| 32000|Female| France|         4|      146|  8923|22-11-2019|\n",
            "+----------+---+------+------+-------+----------+---------+------+----------+\n",
            "only showing top 20 rows\n",
            "\n"
          ],
          "name": "stdout"
        }
      ]
    },
    {
      "cell_type": "code",
      "metadata": {
        "colab": {
          "base_uri": "https://localhost:8080/"
        },
        "id": "b2LVIFgGJeaJ",
        "outputId": "58c82be9-bc5d-4cf7-86ca-c790a39cfdd5"
      },
      "source": [
        "customerDFMini.join(transactionDFMini,customerDFMini.CustomerID < transactionDFMini.CustomerID,how=\"inner\" ).show()"
      ],
      "execution_count": 33,
      "outputs": [
        {
          "output_type": "stream",
          "text": [
            "+----------+---+------+------+-------+----------+---------+------+----------+\n",
            "|CustomerID|Age|Salary|Gender|Country|CustomerID|ProductID|Amount|      Date|\n",
            "+----------+---+------+------+-------+----------+---------+------+----------+\n",
            "|         1| 72| 20000|  Male|Germany|         2|       14|  7271|15-12-2019|\n",
            "|         1| 72| 20000|  Male|Germany|         3|       47|  4276|20-11-2019|\n",
            "|         1| 72| 20000|  Male|Germany|         4|      146|  8923|22-11-2019|\n",
            "|         1| 72| 20000|  Male|Germany|         5|       46|  4891|30-11-2019|\n",
            "|         1| 72| 20000|  Male|Germany|         6|      143|  7545|05-12-2019|\n",
            "|         2| 72| 22000|Female| France|         3|       47|  4276|20-11-2019|\n",
            "|         2| 72| 22000|Female| France|         4|      146|  8923|22-11-2019|\n",
            "|         2| 72| 22000|Female| France|         5|       46|  4891|30-11-2019|\n",
            "|         2| 72| 22000|Female| France|         6|      143|  7545|05-12-2019|\n",
            "|         5| 33| 50000|  Male| France|         6|      143|  7545|05-12-2019|\n",
            "+----------+---+------+------+-------+----------+---------+------+----------+\n",
            "\n"
          ],
          "name": "stdout"
        }
      ]
    }
  ]
}