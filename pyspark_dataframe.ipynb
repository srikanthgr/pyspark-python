{
  "nbformat": 4,
  "nbformat_minor": 0,
  "metadata": {
    "colab": {
      "name": "pyspark_dataframe.ipynb",
      "provenance": [],
      "authorship_tag": "ABX9TyM2/Y3kKq3dJMtTA9Olk5JD",
      "include_colab_link": true
    },
    "kernelspec": {
      "name": "python3",
      "display_name": "Python 3"
    }
  },
  "cells": [
    {
      "cell_type": "markdown",
      "metadata": {
        "id": "view-in-github",
        "colab_type": "text"
      },
      "source": [
        "<a href=\"https://colab.research.google.com/github/srikanthgr/pyspark-python/blob/main/pyspark_dataframe.ipynb\" target=\"_parent\"><img src=\"https://colab.research.google.com/assets/colab-badge.svg\" alt=\"Open In Colab\"/></a>"
      ]
    },
    {
      "cell_type": "code",
      "metadata": {
        "id": "QY5bkI_twGbK"
      },
      "source": [
        "!apt-get install openjdk-8-jdk-headless -qq > /dev/null\n",
        "!wget -q https://archive.apache.org/dist/spark/spark-2.4.3/spark-2.4.3-bin-hadoop2.6.tgz\n",
        "!tar -xvf spark-2.4.3-bin-hadoop2.6.tgz\n",
        "!pip install -q findspark\n",
        "import os\n",
        "os.environ[\"JAVA_HOME\"] = \"/usr/lib/jvm/java-8-openjdk-amd64\"\n",
        "os.environ[\"SPARK_HOME\"] = \"/content/spark-2.4.3-bin-hadoop2.6\"\n",
        "import findspark\n",
        "findspark.init()\n",
        "from pyspark.sql import SparkSession\n",
        "spark = SparkSession.builder.master(\"local[*]\").getOrCreate()"
      ],
      "execution_count": null,
      "outputs": []
    },
    {
      "cell_type": "code",
      "metadata": {
        "colab": {
          "base_uri": "https://localhost:8080/"
        },
        "id": "gLf9phmcwnb9",
        "outputId": "4e740e00-e000-459f-dc61-17c2c0b2e847"
      },
      "source": [
        "df = spark.createDataFrame([{\"Google\": \"Colab\",\"Spark\": \"Scala\"} ,{\"Google\": \"Dataproc\",\"Spark\":\"Python\"}])\n",
        "df.show()\n"
      ],
      "execution_count": 2,
      "outputs": [
        {
          "output_type": "stream",
          "text": [
            "/content/spark-2.4.3-bin-hadoop2.6/python/pyspark/sql/session.py:346: UserWarning: inferring schema from dict is deprecated,please use pyspark.sql.Row instead\n",
            "  warnings.warn(\"inferring schema from dict is deprecated,\"\n"
          ],
          "name": "stderr"
        },
        {
          "output_type": "stream",
          "text": [
            "+--------+------+\n",
            "|  Google| Spark|\n",
            "+--------+------+\n",
            "|   Colab| Scala|\n",
            "|Dataproc|Python|\n",
            "+--------+------+\n",
            "\n"
          ],
          "name": "stdout"
        }
      ]
    },
    {
      "cell_type": "code",
      "metadata": {
        "colab": {
          "base_uri": "https://localhost:8080/"
        },
        "id": "lMCVDu-7wrQt",
        "outputId": "ee1af38f-fab8-4a58-ddc2-e23bed43ade5"
      },
      "source": [
        "!ls"
      ],
      "execution_count": 3,
      "outputs": [
        {
          "output_type": "stream",
          "text": [
            "sample_data  spark-2.4.3-bin-hadoop2.6\tspark-2.4.3-bin-hadoop2.6.tgz\n"
          ],
          "name": "stdout"
        }
      ]
    },
    {
      "cell_type": "code",
      "metadata": {
        "colab": {
          "base_uri": "https://localhost:8080/"
        },
        "id": "ZASbO18RwxPB",
        "outputId": "b11f8d15-f981-4c35-d4ac-edfc33e0c181"
      },
      "source": [
        "!wget https://raw.githubusercontent.com/futurexskill/bidata/master/retailstore.csv"
      ],
      "execution_count": 4,
      "outputs": [
        {
          "output_type": "stream",
          "text": [
            "--2021-03-04 10:23:01--  https://raw.githubusercontent.com/futurexskill/bidata/master/retailstore.csv\n",
            "Resolving raw.githubusercontent.com (raw.githubusercontent.com)... 185.199.108.133, 185.199.110.133, 185.199.111.133, ...\n",
            "Connecting to raw.githubusercontent.com (raw.githubusercontent.com)|185.199.108.133|:443... connected.\n",
            "HTTP request sent, awaiting response... 200 OK\n",
            "Length: 279 [text/plain]\n",
            "Saving to: ‘retailstore.csv’\n",
            "\n",
            "\rretailstore.csv       0%[                    ]       0  --.-KB/s               \rretailstore.csv     100%[===================>]     279  --.-KB/s    in 0s      \n",
            "\n",
            "2021-03-04 10:23:01 (19.7 MB/s) - ‘retailstore.csv’ saved [279/279]\n",
            "\n"
          ],
          "name": "stdout"
        }
      ]
    },
    {
      "cell_type": "code",
      "metadata": {
        "colab": {
          "base_uri": "https://localhost:8080/"
        },
        "id": "E-dj_YVVwzOW",
        "outputId": "6a7acec7-e8e3-4615-c84f-f4aabd664b20"
      },
      "source": [
        "!ls"
      ],
      "execution_count": 5,
      "outputs": [
        {
          "output_type": "stream",
          "text": [
            "retailstore.csv  spark-2.4.3-bin-hadoop2.6\n",
            "sample_data\t spark-2.4.3-bin-hadoop2.6.tgz\n"
          ],
          "name": "stdout"
        }
      ]
    },
    {
      "cell_type": "code",
      "metadata": {
        "colab": {
          "base_uri": "https://localhost:8080/"
        },
        "id": "ZK-4a-7Ew2vM",
        "outputId": "5f5bf166-7b36-490b-c4cd-a51ea0ae56e1"
      },
      "source": [
        "customerDF = spark.read.csv(\"retailstore.csv\", header=True)\n",
        "type(customerDF)"
      ],
      "execution_count": 6,
      "outputs": [
        {
          "output_type": "execute_result",
          "data": {
            "text/plain": [
              "pyspark.sql.dataframe.DataFrame"
            ]
          },
          "metadata": {
            "tags": []
          },
          "execution_count": 6
        }
      ]
    },
    {
      "cell_type": "code",
      "metadata": {
        "colab": {
          "base_uri": "https://localhost:8080/"
        },
        "id": "tfa1WWrAxL2i",
        "outputId": "638db0a3-5d5c-45ed-821a-6d790301fd7f"
      },
      "source": [
        "customerDF.show(4)"
      ],
      "execution_count": 7,
      "outputs": [
        {
          "output_type": "stream",
          "text": [
            "+---+------+------+-------+---------+\n",
            "|Age|Salary|Gender|Country|Purchased|\n",
            "+---+------+------+-------+---------+\n",
            "| 18| 20000|  Male|Germany|        N|\n",
            "| 19| 22000|Female| France|        N|\n",
            "| 20| 24000|Female|England|        N|\n",
            "| 21|  null|  Male|England|        N|\n",
            "+---+------+------+-------+---------+\n",
            "only showing top 4 rows\n",
            "\n"
          ],
          "name": "stdout"
        }
      ]
    },
    {
      "cell_type": "code",
      "metadata": {
        "colab": {
          "base_uri": "https://localhost:8080/"
        },
        "id": "5LMlAsJIxYDB",
        "outputId": "71d2bf4f-948e-4ddf-87c9-fc827d9ca4d3"
      },
      "source": [
        "customerDF.describe().show()"
      ],
      "execution_count": 9,
      "outputs": [
        {
          "output_type": "stream",
          "text": [
            "+-------+-----------------+-----------------+------+-------+---------+\n",
            "|summary|              Age|           Salary|Gender|Country|Purchased|\n",
            "+-------+-----------------+-----------------+------+-------+---------+\n",
            "|  count|                9|                8|    10|     10|       10|\n",
            "|   mean|22.11111111111111|          31875.0|  null|   null|     null|\n",
            "| stddev|2.934469476943168|9818.895777311942|  null|   null|     null|\n",
            "|    min|               18|            20000|Female|England|        N|\n",
            "|    max|               27|            50000|  Male|Germany|        Y|\n",
            "+-------+-----------------+-----------------+------+-------+---------+\n",
            "\n"
          ],
          "name": "stdout"
        }
      ]
    },
    {
      "cell_type": "code",
      "metadata": {
        "colab": {
          "base_uri": "https://localhost:8080/"
        },
        "id": "eE76TjEaxfy9",
        "outputId": "e36dc633-e320-4af4-b9d4-80b7588f48c2"
      },
      "source": [
        "customerDF.select(\"country\").show()"
      ],
      "execution_count": 10,
      "outputs": [
        {
          "output_type": "stream",
          "text": [
            "+-------+\n",
            "|country|\n",
            "+-------+\n",
            "|Germany|\n",
            "| France|\n",
            "|England|\n",
            "|England|\n",
            "| France|\n",
            "|England|\n",
            "|Germany|\n",
            "| France|\n",
            "|Germany|\n",
            "| France|\n",
            "+-------+\n",
            "\n"
          ],
          "name": "stdout"
        }
      ]
    },
    {
      "cell_type": "code",
      "metadata": {
        "colab": {
          "base_uri": "https://localhost:8080/"
        },
        "id": "iNqF9rnjxnrV",
        "outputId": "bd4e3e05-036b-451a-fa4f-b722cd7c7c95"
      },
      "source": [
        "customerDF.groupby(\"country\").count().show()"
      ],
      "execution_count": 11,
      "outputs": [
        {
          "output_type": "stream",
          "text": [
            "+-------+-----+\n",
            "|country|count|\n",
            "+-------+-----+\n",
            "|Germany|    3|\n",
            "| France|    4|\n",
            "|England|    3|\n",
            "+-------+-----+\n",
            "\n"
          ],
          "name": "stdout"
        }
      ]
    },
    {
      "cell_type": "code",
      "metadata": {
        "colab": {
          "base_uri": "https://localhost:8080/"
        },
        "id": "_BWTMg23xuOF",
        "outputId": "a46080fe-95df-4cef-b924-4cc8ab60d0b1"
      },
      "source": [
        "customerDF.groupBy(\"gender\").count().show()"
      ],
      "execution_count": 12,
      "outputs": [
        {
          "output_type": "stream",
          "text": [
            "+------+-----+\n",
            "|gender|count|\n",
            "+------+-----+\n",
            "|Female|    5|\n",
            "|  Male|    5|\n",
            "+------+-----+\n",
            "\n"
          ],
          "name": "stdout"
        }
      ]
    },
    {
      "cell_type": "code",
      "metadata": {
        "colab": {
          "base_uri": "https://localhost:8080/"
        },
        "id": "fdoT9kQgx0YH",
        "outputId": "b05f081c-477f-4728-8fc0-d7b4c8dc5a94"
      },
      "source": [
        "customerDF.createOrReplaceTempView(\"customer\")\n",
        "results = spark.sql(\"SELECT * FROM customer\")\n",
        "type(results)\n",
        "results.show()"
      ],
      "execution_count": 16,
      "outputs": [
        {
          "output_type": "stream",
          "text": [
            "+----+------+------+-------+---------+\n",
            "| Age|Salary|Gender|Country|Purchased|\n",
            "+----+------+------+-------+---------+\n",
            "|  18| 20000|  Male|Germany|        N|\n",
            "|  19| 22000|Female| France|        N|\n",
            "|  20| 24000|Female|England|        N|\n",
            "|  21|  null|  Male|England|        N|\n",
            "|  22| 50000|  Male| France|        Y|\n",
            "|  23| 35000|Female|England|        N|\n",
            "|  24|  null|  Male|Germany|        N|\n",
            "|  25| 32000|Female| France|        Y|\n",
            "|null| 35000|  Male|Germany|        N|\n",
            "|  27| 37000|Female| France|        N|\n",
            "+----+------+------+-------+---------+\n",
            "\n"
          ],
          "name": "stdout"
        }
      ]
    },
    {
      "cell_type": "code",
      "metadata": {
        "colab": {
          "base_uri": "https://localhost:8080/"
        },
        "id": "FIXCBFgP0PER",
        "outputId": "72cea2c5-e7ed-4255-a248-aae14829f857"
      },
      "source": [
        "new_results = spark.sql(\"SELECT * FROM customer where age > 22\").show()"
      ],
      "execution_count": 17,
      "outputs": [
        {
          "output_type": "stream",
          "text": [
            "+---+------+------+-------+---------+\n",
            "|Age|Salary|Gender|Country|Purchased|\n",
            "+---+------+------+-------+---------+\n",
            "| 23| 35000|Female|England|        N|\n",
            "| 24|  null|  Male|Germany|        N|\n",
            "| 25| 32000|Female| France|        Y|\n",
            "| 27| 37000|Female| France|        N|\n",
            "+---+------+------+-------+---------+\n",
            "\n"
          ],
          "name": "stdout"
        }
      ]
    },
    {
      "cell_type": "code",
      "metadata": {
        "colab": {
          "base_uri": "https://localhost:8080/"
        },
        "id": "zB8y-oqI0Y7A",
        "outputId": "74a37266-a394-4588-da01-ff3d7c52646d"
      },
      "source": [
        "new_results = spark.sql(\"SELECT * FROM customer where age > 22\").select(\"salary\").show()"
      ],
      "execution_count": 18,
      "outputs": [
        {
          "output_type": "stream",
          "text": [
            "+------+\n",
            "|salary|\n",
            "+------+\n",
            "| 35000|\n",
            "|  null|\n",
            "| 32000|\n",
            "| 37000|\n",
            "+------+\n",
            "\n"
          ],
          "name": "stdout"
        }
      ]
    },
    {
      "cell_type": "code",
      "metadata": {
        "colab": {
          "base_uri": "https://localhost:8080/"
        },
        "id": "Thb-0zOt0oBY",
        "outputId": "bc6ee6f3-a2b9-465c-dfcb-6e9e4fb0a667"
      },
      "source": [
        "customerDF.filter(\"salary > 30000\").show()"
      ],
      "execution_count": 19,
      "outputs": [
        {
          "output_type": "stream",
          "text": [
            "+----+------+------+-------+---------+\n",
            "| Age|Salary|Gender|Country|Purchased|\n",
            "+----+------+------+-------+---------+\n",
            "|  22| 50000|  Male| France|        Y|\n",
            "|  23| 35000|Female|England|        N|\n",
            "|  25| 32000|Female| France|        Y|\n",
            "|null| 35000|  Male|Germany|        N|\n",
            "|  27| 37000|Female| France|        N|\n",
            "+----+------+------+-------+---------+\n",
            "\n"
          ],
          "name": "stdout"
        }
      ]
    },
    {
      "cell_type": "code",
      "metadata": {
        "colab": {
          "base_uri": "https://localhost:8080/"
        },
        "id": "wOCshbCd0zzk",
        "outputId": "eefe1736-7378-4c99-9d67-971fa9f6eb68"
      },
      "source": [
        "customerDF.groupby(\"gender\").agg({\"salary\":\"avg\", \"age\":\"max\"}).show()"
      ],
      "execution_count": 21,
      "outputs": [
        {
          "output_type": "stream",
          "text": [
            "+------+-----------+--------+\n",
            "|gender|avg(salary)|max(age)|\n",
            "+------+-----------+--------+\n",
            "|Female|    30000.0|      27|\n",
            "|  Male|    35000.0|      24|\n",
            "+------+-----------+--------+\n",
            "\n"
          ],
          "name": "stdout"
        }
      ]
    },
    {
      "cell_type": "code",
      "metadata": {
        "colab": {
          "base_uri": "https://localhost:8080/"
        },
        "id": "5jsGiSbb1Pdt",
        "outputId": "b2f152ec-e589-4bfd-e458-4fd10c2326c4"
      },
      "source": [
        "customerDF.select([\"age\", \"salary\"]).show()"
      ],
      "execution_count": 22,
      "outputs": [
        {
          "output_type": "stream",
          "text": [
            "+----+------+\n",
            "| age|salary|\n",
            "+----+------+\n",
            "|  18| 20000|\n",
            "|  19| 22000|\n",
            "|  20| 24000|\n",
            "|  21|  null|\n",
            "|  22| 50000|\n",
            "|  23| 35000|\n",
            "|  24|  null|\n",
            "|  25| 32000|\n",
            "|null| 35000|\n",
            "|  27| 37000|\n",
            "+----+------+\n",
            "\n"
          ],
          "name": "stdout"
        }
      ]
    },
    {
      "cell_type": "code",
      "metadata": {
        "colab": {
          "base_uri": "https://localhost:8080/"
        },
        "id": "zDpJppLn1VxA",
        "outputId": "e04101b0-03f4-40c0-d7fc-d4e95e4b4efc"
      },
      "source": [
        "customerDF.withColumn('doublesalary', customerDF['salary']*2).show()"
      ],
      "execution_count": 23,
      "outputs": [
        {
          "output_type": "stream",
          "text": [
            "+----+------+------+-------+---------+------------+\n",
            "| Age|Salary|Gender|Country|Purchased|doublesalary|\n",
            "+----+------+------+-------+---------+------------+\n",
            "|  18| 20000|  Male|Germany|        N|     40000.0|\n",
            "|  19| 22000|Female| France|        N|     44000.0|\n",
            "|  20| 24000|Female|England|        N|     48000.0|\n",
            "|  21|  null|  Male|England|        N|        null|\n",
            "|  22| 50000|  Male| France|        Y|    100000.0|\n",
            "|  23| 35000|Female|England|        N|     70000.0|\n",
            "|  24|  null|  Male|Germany|        N|        null|\n",
            "|  25| 32000|Female| France|        Y|     64000.0|\n",
            "|null| 35000|  Male|Germany|        N|     70000.0|\n",
            "|  27| 37000|Female| France|        N|     74000.0|\n",
            "+----+------+------+-------+---------+------------+\n",
            "\n"
          ],
          "name": "stdout"
        }
      ]
    },
    {
      "cell_type": "code",
      "metadata": {
        "colab": {
          "base_uri": "https://localhost:8080/"
        },
        "id": "l1bpttlM1lRW",
        "outputId": "4774fd84-6029-4ee1-8d61-c8341bc63588"
      },
      "source": [
        "customerDF.withColumnRenamed('salary','income').show()"
      ],
      "execution_count": 24,
      "outputs": [
        {
          "output_type": "stream",
          "text": [
            "+----+------+------+-------+---------+\n",
            "| Age|income|Gender|Country|Purchased|\n",
            "+----+------+------+-------+---------+\n",
            "|  18| 20000|  Male|Germany|        N|\n",
            "|  19| 22000|Female| France|        N|\n",
            "|  20| 24000|Female|England|        N|\n",
            "|  21|  null|  Male|England|        N|\n",
            "|  22| 50000|  Male| France|        Y|\n",
            "|  23| 35000|Female|England|        N|\n",
            "|  24|  null|  Male|Germany|        N|\n",
            "|  25| 32000|Female| France|        Y|\n",
            "|null| 35000|  Male|Germany|        N|\n",
            "|  27| 37000|Female| France|        N|\n",
            "+----+------+------+-------+---------+\n",
            "\n"
          ],
          "name": "stdout"
        }
      ]
    },
    {
      "cell_type": "code",
      "metadata": {
        "colab": {
          "base_uri": "https://localhost:8080/"
        },
        "id": "EMaC43Z11ryg",
        "outputId": "e634c3ca-fcba-495d-9062-8fe6daa45cb0"
      },
      "source": [
        "customerDF.filter(\"salary > 30000\").select('age').show()"
      ],
      "execution_count": 25,
      "outputs": [
        {
          "output_type": "stream",
          "text": [
            "+----+\n",
            "| age|\n",
            "+----+\n",
            "|  22|\n",
            "|  23|\n",
            "|  25|\n",
            "|null|\n",
            "|  27|\n",
            "+----+\n",
            "\n"
          ],
          "name": "stdout"
        }
      ]
    },
    {
      "cell_type": "code",
      "metadata": {
        "colab": {
          "base_uri": "https://localhost:8080/"
        },
        "id": "YF8Gvmuf104z",
        "outputId": "29a4ff58-9576-4043-a141-6faab668f112"
      },
      "source": [
        "customerDF.filter(\"salary > 30000\").select('age', 'country').show()"
      ],
      "execution_count": 26,
      "outputs": [
        {
          "output_type": "stream",
          "text": [
            "+----+-------+\n",
            "| age|country|\n",
            "+----+-------+\n",
            "|  22| France|\n",
            "|  23|England|\n",
            "|  25| France|\n",
            "|null|Germany|\n",
            "|  27| France|\n",
            "+----+-------+\n",
            "\n"
          ],
          "name": "stdout"
        }
      ]
    },
    {
      "cell_type": "code",
      "metadata": {
        "colab": {
          "base_uri": "https://localhost:8080/"
        },
        "id": "viJosvuE2AGv",
        "outputId": "286910ae-7174-485b-c04c-71f2cf59eac6"
      },
      "source": [
        "customerDF.filter(customerDF['salary']> 30000).show()"
      ],
      "execution_count": 27,
      "outputs": [
        {
          "output_type": "stream",
          "text": [
            "+----+------+------+-------+---------+\n",
            "| Age|Salary|Gender|Country|Purchased|\n",
            "+----+------+------+-------+---------+\n",
            "|  22| 50000|  Male| France|        Y|\n",
            "|  23| 35000|Female|England|        N|\n",
            "|  25| 32000|Female| France|        Y|\n",
            "|null| 35000|  Male|Germany|        N|\n",
            "|  27| 37000|Female| France|        N|\n",
            "+----+------+------+-------+---------+\n",
            "\n"
          ],
          "name": "stdout"
        }
      ]
    },
    {
      "cell_type": "code",
      "metadata": {
        "colab": {
          "base_uri": "https://localhost:8080/"
        },
        "id": "n1PRf3Us2HD9",
        "outputId": "192c36bf-d79b-4c59-b749-ed242e76c5de"
      },
      "source": [
        "customerDF.filter((customerDF['salary'] > 30000) & ~(customerDF['age'] < 22)).show()"
      ],
      "execution_count": 31,
      "outputs": [
        {
          "output_type": "stream",
          "text": [
            "+---+------+------+-------+---------+\n",
            "|Age|Salary|Gender|Country|Purchased|\n",
            "+---+------+------+-------+---------+\n",
            "| 22| 50000|  Male| France|        Y|\n",
            "| 23| 35000|Female|England|        N|\n",
            "| 25| 32000|Female| France|        Y|\n",
            "| 27| 37000|Female| France|        N|\n",
            "+---+------+------+-------+---------+\n",
            "\n"
          ],
          "name": "stdout"
        }
      ]
    },
    {
      "cell_type": "code",
      "metadata": {
        "colab": {
          "base_uri": "https://localhost:8080/"
        },
        "id": "cQsAuoHe2ax6",
        "outputId": "b5037e79-2a63-464b-d790-c34ba1f88faa"
      },
      "source": [
        "from pyspark.sql.functions import countDistinct, avg, stddev\n",
        "customerDF.select(countDistinct(\"country\")).show()"
      ],
      "execution_count": 34,
      "outputs": [
        {
          "output_type": "stream",
          "text": [
            "+-----------------------+\n",
            "|count(DISTINCT country)|\n",
            "+-----------------------+\n",
            "|                      3|\n",
            "+-----------------------+\n",
            "\n"
          ],
          "name": "stdout"
        }
      ]
    },
    {
      "cell_type": "code",
      "metadata": {
        "colab": {
          "base_uri": "https://localhost:8080/"
        },
        "id": "i2pepGfA2rd3",
        "outputId": "4b701065-c4c1-4bae-d419-72e3b0207585"
      },
      "source": [
        "customerDF.select(avg('salary')).show()"
      ],
      "execution_count": 35,
      "outputs": [
        {
          "output_type": "stream",
          "text": [
            "+-----------+\n",
            "|avg(salary)|\n",
            "+-----------+\n",
            "|    31875.0|\n",
            "+-----------+\n",
            "\n"
          ],
          "name": "stdout"
        }
      ]
    },
    {
      "cell_type": "code",
      "metadata": {
        "colab": {
          "base_uri": "https://localhost:8080/"
        },
        "id": "bHgrayCP2s-o",
        "outputId": "fc3c5b23-f7d4-479e-ae68-03be49001580"
      },
      "source": [
        "customerDF.select(countDistinct(\"country\").alias(\"Distinct Countries\")).show()"
      ],
      "execution_count": 36,
      "outputs": [
        {
          "output_type": "stream",
          "text": [
            "+------------------+\n",
            "|Distinct Countries|\n",
            "+------------------+\n",
            "|                 3|\n",
            "+------------------+\n",
            "\n"
          ],
          "name": "stdout"
        }
      ]
    },
    {
      "cell_type": "code",
      "metadata": {
        "colab": {
          "base_uri": "https://localhost:8080/"
        },
        "id": "HnXn-coq2zCu",
        "outputId": "3a0c1396-381d-4d97-e630-4269b96a2f71"
      },
      "source": [
        "customerDF.select(avg('age')).show()"
      ],
      "execution_count": 37,
      "outputs": [
        {
          "output_type": "stream",
          "text": [
            "+-----------------+\n",
            "|         avg(age)|\n",
            "+-----------------+\n",
            "|22.11111111111111|\n",
            "+-----------------+\n",
            "\n"
          ],
          "name": "stdout"
        }
      ]
    },
    {
      "cell_type": "code",
      "metadata": {
        "colab": {
          "base_uri": "https://localhost:8080/"
        },
        "id": "y9yDfygU24Mq",
        "outputId": "728785e5-1056-41e8-e649-cd2cc8cd0c02"
      },
      "source": [
        "customerDF.select(stddev(\"salary\")).show()"
      ],
      "execution_count": 38,
      "outputs": [
        {
          "output_type": "stream",
          "text": [
            "+-------------------+\n",
            "|stddev_samp(salary)|\n",
            "+-------------------+\n",
            "|  9818.895777311942|\n",
            "+-------------------+\n",
            "\n"
          ],
          "name": "stdout"
        }
      ]
    },
    {
      "cell_type": "code",
      "metadata": {
        "colab": {
          "base_uri": "https://localhost:8080/"
        },
        "id": "AJOr00ZD28Yk",
        "outputId": "102a1586-6681-4a8c-d315-b84e2962edb7"
      },
      "source": [
        "customerDF.select(stddev(\"age\")).show()"
      ],
      "execution_count": 39,
      "outputs": [
        {
          "output_type": "stream",
          "text": [
            "+-----------------+\n",
            "| stddev_samp(age)|\n",
            "+-----------------+\n",
            "|2.934469476943168|\n",
            "+-----------------+\n",
            "\n"
          ],
          "name": "stdout"
        }
      ]
    },
    {
      "cell_type": "code",
      "metadata": {
        "colab": {
          "base_uri": "https://localhost:8080/"
        },
        "id": "1M8VMoiv3Byn",
        "outputId": "59e592c3-72fb-48d2-b0e4-67ffe1f68127"
      },
      "source": [
        "from pyspark.sql.functions import format_number\n",
        "\n",
        "salary_std = customerDF.select(stddev(\"salary\").alias('std'))\n",
        "\n",
        "salary_std.show()\n"
      ],
      "execution_count": 40,
      "outputs": [
        {
          "output_type": "stream",
          "text": [
            "+-----------------+\n",
            "|              std|\n",
            "+-----------------+\n",
            "|9818.895777311942|\n",
            "+-----------------+\n",
            "\n"
          ],
          "name": "stdout"
        }
      ]
    },
    {
      "cell_type": "code",
      "metadata": {
        "colab": {
          "base_uri": "https://localhost:8080/"
        },
        "id": "KW7j5TCA3DBr",
        "outputId": "1bdbeb75-6a70-4f13-c26c-424ddc4af609"
      },
      "source": [
        "salary_std.select(format_number('std',2)).show()"
      ],
      "execution_count": 41,
      "outputs": [
        {
          "output_type": "stream",
          "text": [
            "+---------------------+\n",
            "|format_number(std, 2)|\n",
            "+---------------------+\n",
            "|             9,818.90|\n",
            "+---------------------+\n",
            "\n"
          ],
          "name": "stdout"
        }
      ]
    },
    {
      "cell_type": "code",
      "metadata": {
        "colab": {
          "base_uri": "https://localhost:8080/"
        },
        "id": "MX--7yK83JVi",
        "outputId": "a4e878b2-096e-46f8-fc1c-1c127d33cfc3"
      },
      "source": [
        "customerDF.orderBy(customerDF[\"salary\"].desc()).show()"
      ],
      "execution_count": 42,
      "outputs": [
        {
          "output_type": "stream",
          "text": [
            "+----+------+------+-------+---------+\n",
            "| Age|Salary|Gender|Country|Purchased|\n",
            "+----+------+------+-------+---------+\n",
            "|  22| 50000|  Male| France|        Y|\n",
            "|  27| 37000|Female| France|        N|\n",
            "|  23| 35000|Female|England|        N|\n",
            "|null| 35000|  Male|Germany|        N|\n",
            "|  25| 32000|Female| France|        Y|\n",
            "|  20| 24000|Female|England|        N|\n",
            "|  19| 22000|Female| France|        N|\n",
            "|  18| 20000|  Male|Germany|        N|\n",
            "|  21|  null|  Male|England|        N|\n",
            "|  24|  null|  Male|Germany|        N|\n",
            "+----+------+------+-------+---------+\n",
            "\n"
          ],
          "name": "stdout"
        }
      ]
    },
    {
      "cell_type": "code",
      "metadata": {
        "colab": {
          "base_uri": "https://localhost:8080/"
        },
        "id": "UKpWhS7A3Mhn",
        "outputId": "f5771bbb-5582-4b1a-e065-6f7bd3a18914"
      },
      "source": [
        "customerDF.orderBy(\"salary\").show()"
      ],
      "execution_count": 43,
      "outputs": [
        {
          "output_type": "stream",
          "text": [
            "+----+------+------+-------+---------+\n",
            "| Age|Salary|Gender|Country|Purchased|\n",
            "+----+------+------+-------+---------+\n",
            "|  21|  null|  Male|England|        N|\n",
            "|  24|  null|  Male|Germany|        N|\n",
            "|  18| 20000|  Male|Germany|        N|\n",
            "|  19| 22000|Female| France|        N|\n",
            "|  20| 24000|Female|England|        N|\n",
            "|  25| 32000|Female| France|        Y|\n",
            "|null| 35000|  Male|Germany|        N|\n",
            "|  23| 35000|Female|England|        N|\n",
            "|  27| 37000|Female| France|        N|\n",
            "|  22| 50000|  Male| France|        Y|\n",
            "+----+------+------+-------+---------+\n",
            "\n"
          ],
          "name": "stdout"
        }
      ]
    },
    {
      "cell_type": "code",
      "metadata": {
        "colab": {
          "base_uri": "https://localhost:8080/"
        },
        "id": "PsL2xabA3NkB",
        "outputId": "708b35d7-c96c-4c1d-ccb9-2ab1bad16bb7"
      },
      "source": [
        "customerDF.na.drop().show()"
      ],
      "execution_count": 45,
      "outputs": [
        {
          "output_type": "stream",
          "text": [
            "+---+------+------+-------+---------+\n",
            "|Age|Salary|Gender|Country|Purchased|\n",
            "+---+------+------+-------+---------+\n",
            "| 18| 20000|  Male|Germany|        N|\n",
            "| 19| 22000|Female| France|        N|\n",
            "| 20| 24000|Female|England|        N|\n",
            "| 22| 50000|  Male| France|        Y|\n",
            "| 23| 35000|Female|England|        N|\n",
            "| 25| 32000|Female| France|        Y|\n",
            "| 27| 37000|Female| France|        N|\n",
            "+---+------+------+-------+---------+\n",
            "\n"
          ],
          "name": "stdout"
        }
      ]
    },
    {
      "cell_type": "code",
      "metadata": {
        "colab": {
          "base_uri": "https://localhost:8080/"
        },
        "id": "JJSdIhVp3UG6",
        "outputId": "f8618549-dba1-42cd-8fac-e3e679eab3b3"
      },
      "source": [
        "customerDF.na.fill('NEW VALUE').show()"
      ],
      "execution_count": 46,
      "outputs": [
        {
          "output_type": "stream",
          "text": [
            "+---------+---------+------+-------+---------+\n",
            "|      Age|   Salary|Gender|Country|Purchased|\n",
            "+---------+---------+------+-------+---------+\n",
            "|       18|    20000|  Male|Germany|        N|\n",
            "|       19|    22000|Female| France|        N|\n",
            "|       20|    24000|Female|England|        N|\n",
            "|       21|NEW VALUE|  Male|England|        N|\n",
            "|       22|    50000|  Male| France|        Y|\n",
            "|       23|    35000|Female|England|        N|\n",
            "|       24|NEW VALUE|  Male|Germany|        N|\n",
            "|       25|    32000|Female| France|        Y|\n",
            "|NEW VALUE|    35000|  Male|Germany|        N|\n",
            "|       27|    37000|Female| France|        N|\n",
            "+---------+---------+------+-------+---------+\n",
            "\n"
          ],
          "name": "stdout"
        }
      ]
    }
  ]
}