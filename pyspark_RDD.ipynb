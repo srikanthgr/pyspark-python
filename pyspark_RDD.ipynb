{
  "nbformat": 4,
  "nbformat_minor": 0,
  "metadata": {
    "colab": {
      "name": "pyspark_RDD.ipynb",
      "provenance": [],
      "authorship_tag": "ABX9TyPdziLWKlRbs6/eZo+tpEyX",
      "include_colab_link": true
    },
    "kernelspec": {
      "name": "python3",
      "display_name": "Python 3"
    }
  },
  "cells": [
    {
      "cell_type": "markdown",
      "metadata": {
        "id": "view-in-github",
        "colab_type": "text"
      },
      "source": [
        "<a href=\"https://colab.research.google.com/github/srikanthgr/pyspark-python/blob/main/pyspark_RDD.ipynb\" target=\"_parent\"><img src=\"https://colab.research.google.com/assets/colab-badge.svg\" alt=\"Open In Colab\"/></a>"
      ]
    },
    {
      "cell_type": "code",
      "metadata": {
        "id": "nmrmZc7XqS_d"
      },
      "source": [
        ""
      ],
      "execution_count": null,
      "outputs": []
    },
    {
      "cell_type": "markdown",
      "metadata": {
        "id": "g_sqhbJYqQ_4"
      },
      "source": [
        "## Install JDK\n",
        "## Install Spark\n",
        "## Set Environment variables\n",
        "## Create a Spark Session\n"
      ]
    },
    {
      "cell_type": "code",
      "metadata": {
        "id": "8ZWyQlE6pjQK"
      },
      "source": [
        "!apt-get install openjdk-8-jdk-headless -qq > /dev/null\n",
        "!wget -q https://archive.apache.org/dist/spark/spark-2.4.3/spark-2.4.3-bin-hadoop2.6.tgz\n",
        "!tar -xvf spark-2.4.3-bin-hadoop2.6.tgz\n",
        "!pip install -q findspark\n",
        "import os\n",
        "os.environ[\"JAVA_HOME\"] = \"/usr/lib/jvm/java-8-openjdk-amd64\"\n",
        "os.environ[\"SPARK_HOME\"] = \"/content/spark-2.4.3-bin-hadoop2.6\"\n",
        "import findspark\n",
        "findspark.init()\n",
        "from pyspark.sql import SparkSession\n",
        "spark = SparkSession.builder.master(\"local[*]\").getOrCreate()"
      ],
      "execution_count": null,
      "outputs": []
    },
    {
      "cell_type": "code",
      "metadata": {
        "colab": {
          "base_uri": "https://localhost:8080/"
        },
        "id": "IytYeONHqXSo",
        "outputId": "a54e7b5b-e0fd-4228-b027-5f40b92f4f02"
      },
      "source": [
        "df = spark.createDataFrame([{\"Google\":\"Colab\", \"Spark\":\"Scala\"},{\"Google\":\"Dataproc\", \"Spark\":\"Python\"}])\n",
        "df.show()"
      ],
      "execution_count": 2,
      "outputs": [
        {
          "output_type": "stream",
          "text": [
            "/content/spark-2.4.3-bin-hadoop2.6/python/pyspark/sql/session.py:346: UserWarning: inferring schema from dict is deprecated,please use pyspark.sql.Row instead\n",
            "  warnings.warn(\"inferring schema from dict is deprecated,\"\n"
          ],
          "name": "stderr"
        },
        {
          "output_type": "stream",
          "text": [
            "+--------+------+\n",
            "|  Google| Spark|\n",
            "+--------+------+\n",
            "|   Colab| Scala|\n",
            "|Dataproc|Python|\n",
            "+--------+------+\n",
            "\n"
          ],
          "name": "stdout"
        }
      ]
    },
    {
      "cell_type": "code",
      "metadata": {
        "colab": {
          "base_uri": "https://localhost:8080/"
        },
        "id": "zL-jSRF4rUok",
        "outputId": "aafd8259-a52b-4d2d-8a09-613554e0a3ea"
      },
      "source": [
        "!wget https://raw.githubusercontent.com/srikanthgr/pyspark-python/main/retailstore.csv"
      ],
      "execution_count": 3,
      "outputs": [
        {
          "output_type": "stream",
          "text": [
            "--2021-03-04 09:59:46--  https://raw.githubusercontent.com/srikanthgr/pyspark-python/main/retailstore.csv\n",
            "Resolving raw.githubusercontent.com (raw.githubusercontent.com)... 185.199.108.133, 185.199.109.133, 185.199.110.133, ...\n",
            "Connecting to raw.githubusercontent.com (raw.githubusercontent.com)|185.199.108.133|:443... connected.\n",
            "HTTP request sent, awaiting response... 200 OK\n",
            "Length: 279 [text/plain]\n",
            "Saving to: ‘retailstore.csv’\n",
            "\n",
            "\rretailstore.csv       0%[                    ]       0  --.-KB/s               \rretailstore.csv     100%[===================>]     279  --.-KB/s    in 0s      \n",
            "\n",
            "2021-03-04 09:59:46 (15.0 MB/s) - ‘retailstore.csv’ saved [279/279]\n",
            "\n"
          ],
          "name": "stdout"
        }
      ]
    },
    {
      "cell_type": "code",
      "metadata": {
        "colab": {
          "base_uri": "https://localhost:8080/"
        },
        "id": "q2jXTJNjreYr",
        "outputId": "92a9f841-960b-4529-a00c-d684b5301169"
      },
      "source": [
        "!ls"
      ],
      "execution_count": 4,
      "outputs": [
        {
          "output_type": "stream",
          "text": [
            "retailstore.csv  \u001b[0m\u001b[01;34mspark-2.4.3-bin-hadoop2.6\u001b[0m/\n",
            "\u001b[01;34msample_data\u001b[0m/     spark-2.4.3-bin-hadoop2.6.tgz\n"
          ],
          "name": "stdout"
        }
      ]
    },
    {
      "cell_type": "code",
      "metadata": {
        "colab": {
          "base_uri": "https://localhost:8080/"
        },
        "id": "TFVxoJLsrkB9",
        "outputId": "56233d73-8d35-49a5-e4fd-2e920930004f"
      },
      "source": [
        "from pyspark import SparkContext\n",
        "sc = spark.sparkContext\n",
        "sampleRDD = sc.parallelize([10,20,30,40,50,60])\n",
        "type(sampleRDD)\n",
        "sampleRDD.collect()"
      ],
      "execution_count": 5,
      "outputs": [
        {
          "output_type": "execute_result",
          "data": {
            "text/plain": [
              "[10, 20, 30, 40, 50, 60]"
            ]
          },
          "metadata": {
            "tags": []
          },
          "execution_count": 5
        }
      ]
    },
    {
      "cell_type": "code",
      "metadata": {
        "colab": {
          "base_uri": "https://localhost:8080/"
        },
        "id": "Ppy9W50dr30q",
        "outputId": "1ed13a75-b87a-4d98-a963-38142a4e79f3"
      },
      "source": [
        "customerData = sc.textFile(\"retailstore.csv\")\n",
        "type(customerData)\n"
      ],
      "execution_count": 6,
      "outputs": [
        {
          "output_type": "execute_result",
          "data": {
            "text/plain": [
              "pyspark.rdd.RDD"
            ]
          },
          "metadata": {
            "tags": []
          },
          "execution_count": 6
        }
      ]
    },
    {
      "cell_type": "code",
      "metadata": {
        "colab": {
          "base_uri": "https://localhost:8080/"
        },
        "id": "u7a1OdhtsG6S",
        "outputId": "e3ddbe47-82cd-411e-f8c9-f55d8a9429cb"
      },
      "source": [
        "customerData.collect()"
      ],
      "execution_count": 7,
      "outputs": [
        {
          "output_type": "execute_result",
          "data": {
            "text/plain": [
              "['Age,Salary,Gender,Country,Purchased',\n",
              " '18,20000,Male,Germany,N',\n",
              " '19,22000,Female,France,N',\n",
              " '20,24000,Female,England,N',\n",
              " '21,,Male,England,N',\n",
              " '22,50000,Male,France,Y',\n",
              " '23,35000,Female,England,N',\n",
              " '24,,Male,Germany,N',\n",
              " '25,32000,Female,France,Y',\n",
              " ',35000,Male,Germany,N',\n",
              " '27,37000,Female,France,N']"
            ]
          },
          "metadata": {
            "tags": []
          },
          "execution_count": 7
        }
      ]
    },
    {
      "cell_type": "code",
      "metadata": {
        "colab": {
          "base_uri": "https://localhost:8080/"
        },
        "id": "ChcNqoqlsKhh",
        "outputId": "1a77d104-a0fd-44fd-868f-2ec119273337"
      },
      "source": [
        "customerData.count()\n",
        "customerData.first()\n",
        "customerData.take(3)\n",
        "for line in customerData.collect():\n",
        "  print(line)\n"
      ],
      "execution_count": 8,
      "outputs": [
        {
          "output_type": "stream",
          "text": [
            "Age,Salary,Gender,Country,Purchased\n",
            "18,20000,Male,Germany,N\n",
            "19,22000,Female,France,N\n",
            "20,24000,Female,England,N\n",
            "21,,Male,England,N\n",
            "22,50000,Male,France,Y\n",
            "23,35000,Female,England,N\n",
            "24,,Male,Germany,N\n",
            "25,32000,Female,France,Y\n",
            ",35000,Male,Germany,N\n",
            "27,37000,Female,France,N\n"
          ],
          "name": "stdout"
        }
      ]
    },
    {
      "cell_type": "code",
      "metadata": {
        "colab": {
          "base_uri": "https://localhost:8080/"
        },
        "id": "rI19gSG-so2G",
        "outputId": "e1566437-5a70-4902-b2d1-86a646d6511c"
      },
      "source": [
        "customerData2 = customerData.map(lambda x: x.replace(\"Male\", \"M\"))\n",
        "customerData2.collect()"
      ],
      "execution_count": 11,
      "outputs": [
        {
          "output_type": "execute_result",
          "data": {
            "text/plain": [
              "['Age,Salary,Gender,Country,Purchased',\n",
              " '18,20000,M,Germany,N',\n",
              " '19,22000,Female,France,N',\n",
              " '20,24000,Female,England,N',\n",
              " '21,,M,England,N',\n",
              " '22,50000,M,France,Y',\n",
              " '23,35000,Female,England,N',\n",
              " '24,,M,Germany,N',\n",
              " '25,32000,Female,France,Y',\n",
              " ',35000,M,Germany,N',\n",
              " '27,37000,Female,France,N']"
            ]
          },
          "metadata": {
            "tags": []
          },
          "execution_count": 11
        }
      ]
    },
    {
      "cell_type": "code",
      "metadata": {
        "colab": {
          "base_uri": "https://localhost:8080/"
        },
        "id": "rad55yShtK5V",
        "outputId": "1816ea1c-e241-4596-d7ff-c8f5cb33f5e2"
      },
      "source": [
        "femaleCustomers = customerData.filter(lambda x: \"Female\" in x)\n",
        "femaleCustomers.collect()\n",
        "femaleCustomers.count()"
      ],
      "execution_count": 14,
      "outputs": [
        {
          "output_type": "execute_result",
          "data": {
            "text/plain": [
              "5"
            ]
          },
          "metadata": {
            "tags": []
          },
          "execution_count": 14
        }
      ]
    },
    {
      "cell_type": "code",
      "metadata": {
        "colab": {
          "base_uri": "https://localhost:8080/"
        },
        "id": "C5bjb3H7tfhh",
        "outputId": "739476f2-029a-4453-e40f-ac729f101de0"
      },
      "source": [
        "words = femaleCustomers.flatMap(lambda line: line.split(\",\"))\n",
        "words.count()\n",
        "words.collect()"
      ],
      "execution_count": 20,
      "outputs": [
        {
          "output_type": "execute_result",
          "data": {
            "text/plain": [
              "['19',\n",
              " '22000',\n",
              " 'Female',\n",
              " 'France',\n",
              " 'N',\n",
              " '20',\n",
              " '24000',\n",
              " 'Female',\n",
              " 'England',\n",
              " 'N',\n",
              " '23',\n",
              " '35000',\n",
              " 'Female',\n",
              " 'England',\n",
              " 'N',\n",
              " '25',\n",
              " '32000',\n",
              " 'Female',\n",
              " 'France',\n",
              " 'Y',\n",
              " '27',\n",
              " '37000',\n",
              " 'Female',\n",
              " 'France',\n",
              " 'N']"
            ]
          },
          "metadata": {
            "tags": []
          },
          "execution_count": 20
        }
      ]
    },
    {
      "cell_type": "code",
      "metadata": {
        "id": "n6eFS9iWt_4u"
      },
      "source": [
        "rdd1 = sc.parallelize([\"a\",\"b\",\"c\",\"d\",\"e\"])\n",
        "rdd2 = sc.parallelize([\"c\",\"e\",\"k\",\"l\"])\n"
      ],
      "execution_count": 21,
      "outputs": []
    },
    {
      "cell_type": "code",
      "metadata": {
        "colab": {
          "base_uri": "https://localhost:8080/"
        },
        "id": "hRIw67R-uFsT",
        "outputId": "f73ecb9f-a8f4-4f8d-d053-6a530840481a"
      },
      "source": [
        "for unions in rdd1.union(rdd2).distinct().collect():\n",
        "  print(unions)"
      ],
      "execution_count": 22,
      "outputs": [
        {
          "output_type": "stream",
          "text": [
            "b\n",
            "c\n",
            "l\n",
            "a\n",
            "e\n",
            "d\n",
            "k\n"
          ],
          "name": "stdout"
        }
      ]
    },
    {
      "cell_type": "code",
      "metadata": {
        "colab": {
          "base_uri": "https://localhost:8080/"
        },
        "id": "djisW5_GuPf6",
        "outputId": "97e77b8b-3b70-4216-abf3-a5e7396f9003"
      },
      "source": [
        "for unions in rdd1.intersection(rdd2).distinct().collect():\n",
        "  print(unions)"
      ],
      "execution_count": 23,
      "outputs": [
        {
          "output_type": "stream",
          "text": [
            "c\n",
            "e\n"
          ],
          "name": "stdout"
        }
      ]
    },
    {
      "cell_type": "code",
      "metadata": {
        "id": "Dy_-ulPIuX0a"
      },
      "source": [
        "def transformRDD(customer):\n",
        "  words = customer.split(\",\")\n",
        "  if words[2] == \"Male\" : \n",
        "    words[0] = \"0\"\n",
        "  else:\n",
        "    words[2] = \"1\"\n",
        "  \n",
        "  if words[4] == \"N\":\n",
        "    words[4] = \"0\"\n",
        "  else:\n",
        "    words[4]= \"1\"\n",
        "  words[3] = words[3].upper()\n",
        "  return \",\".join(words)"
      ],
      "execution_count": 24,
      "outputs": []
    },
    {
      "cell_type": "code",
      "metadata": {
        "colab": {
          "base_uri": "https://localhost:8080/"
        },
        "id": "0BBO0NWSu9ai",
        "outputId": "6055565f-9d4d-43a5-d59e-9901bc40d389"
      },
      "source": [
        "transformedCustData = customerData.map(transformRDD)\n",
        "transformedCustData.collect()"
      ],
      "execution_count": 26,
      "outputs": [
        {
          "output_type": "execute_result",
          "data": {
            "text/plain": [
              "['Age,Salary,1,COUNTRY,1',\n",
              " '0,20000,Male,GERMANY,0',\n",
              " '19,22000,1,FRANCE,0',\n",
              " '20,24000,1,ENGLAND,0',\n",
              " '0,,Male,ENGLAND,0',\n",
              " '0,50000,Male,FRANCE,1',\n",
              " '23,35000,1,ENGLAND,0',\n",
              " '0,,Male,GERMANY,0',\n",
              " '25,32000,1,FRANCE,1',\n",
              " '0,35000,Male,GERMANY,0',\n",
              " '27,37000,1,FRANCE,0']"
            ]
          },
          "metadata": {
            "tags": []
          },
          "execution_count": 26
        }
      ]
    },
    {
      "cell_type": "code",
      "metadata": {
        "colab": {
          "base_uri": "https://localhost:8080/"
        },
        "id": "y_pt_5kzvda3",
        "outputId": "b9e653bc-d818-4942-fd13-56abe7af3e8f"
      },
      "source": [
        "sampleRDD = sc.parallelize([10,20,30,40])\n",
        "sampleRDD.reduce(lambda a, b: a + b)"
      ],
      "execution_count": 27,
      "outputs": [
        {
          "output_type": "execute_result",
          "data": {
            "text/plain": [
              "100"
            ]
          },
          "metadata": {
            "tags": []
          },
          "execution_count": 27
        }
      ]
    }
  ]
}